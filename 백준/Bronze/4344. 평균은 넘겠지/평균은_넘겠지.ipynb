{
  "nbformat": 4,
  "nbformat_minor": 0,
  "metadata": {
    "colab": {
      "name": "평균은 넘겠지.ipynb",
      "provenance": [],
      "collapsed_sections": [
        "6Io6S2es3nB7",
        "rrpGNeOhhLIp",
        "az63UopQ-n8t"
      ]
    },
    "kernelspec": {
      "name": "python3",
      "display_name": "Python 3"
    },
    "language_info": {
      "name": "python"
    }
  },
  "cells": [
    {
      "cell_type": "markdown",
      "source": [
        "#알아야 하는 포인트\n",
        "1. 학생들의 평균\n",
        "2. 몇명이 넘는가\n",
        "3. 넘는 비율\n",
        "4. 소수점 셋째자리 반올림\n",
        "5. 2개의 반복문이 존재\n",
        "\n",
        "  5-1:첫번째 '5' case에 대한 반복문\n",
        "  \n",
        "  5-2:각 case에 대한 평균을 돌릴때 반복문"
      ],
      "metadata": {
        "id": "pcm2OdfjvkoZ"
      }
    },
    {
      "cell_type": "markdown",
      "source": [
        "#첫번째 반복문 만들기 -\"5개 case에 대한\""
      ],
      "metadata": {
        "id": "xru_g8M2x7_V"
      }
    },
    {
      "cell_type": "code",
      "execution_count": 1,
      "metadata": {
        "colab": {
          "base_uri": "https://localhost:8080/"
        },
        "id": "I6BkWcpktDOa",
        "outputId": "74a1df6d-99c0-4570-cd5f-2df872b32e0f"
      },
      "outputs": [
        {
          "output_type": "stream",
          "name": "stdout",
          "text": [
            "2\n",
            "5 50 50 70 80 100\n",
            "7 100 95 90 80 70 60 50\n",
            "['5 50 50 70 80 100', '7 100 95 90 80 70 60 50']\n"
          ]
        }
      ],
      "source": [
        "n = int(input())\n",
        "A = []\n",
        "for i in range(0,n):\n",
        "  a = input()\n",
        "  A.append(a)\n",
        "print(A)\n"
      ]
    },
    {
      "cell_type": "markdown",
      "source": [
        "#두번쨰 각 리스트를 split해주기"
      ],
      "metadata": {
        "id": "WX4cG0DX02Kd"
      }
    },
    {
      "cell_type": "code",
      "source": [
        "for i in A:\n",
        "  B = i.split()\n",
        "  B = list(map(int,B))\n",
        "  print(B)\n",
        "  for i in B:\n",
        "    print(i)"
      ],
      "metadata": {
        "colab": {
          "base_uri": "https://localhost:8080/"
        },
        "id": "DuhMJkdd070x",
        "outputId": "c8548478-dae9-488a-de49-97b112f1eb39"
      },
      "execution_count": 2,
      "outputs": [
        {
          "output_type": "stream",
          "name": "stdout",
          "text": [
            "[5, 50, 50, 70, 80, 100]\n",
            "5\n",
            "50\n",
            "50\n",
            "70\n",
            "80\n",
            "100\n",
            "[7, 100, 95, 90, 80, 70, 60, 50]\n",
            "7\n",
            "100\n",
            "95\n",
            "90\n",
            "80\n",
            "70\n",
            "60\n",
            "50\n"
          ]
        }
      ]
    },
    {
      "cell_type": "markdown",
      "source": [
        "#세번쨰 첫번쨰 index를 범위로 하는 총 합 반복문 만들기"
      ],
      "metadata": {
        "id": "DSNDhron1p1t"
      }
    },
    {
      "cell_type": "code",
      "source": [
        "for i in A:\n",
        "  B = i.split()\n",
        "  B = list(map(int,B))\n",
        "  print(B)\n",
        "  sum = 0\n",
        "  i = 0\n",
        "  while i <=B[0]:\n",
        "    sum = sum + B[i]\n",
        "    i = i + 1\n",
        "  print(sum)\n",
        "\n",
        "\n"
      ],
      "metadata": {
        "colab": {
          "base_uri": "https://localhost:8080/"
        },
        "id": "LI3oUd5Yttco",
        "outputId": "2e814031-7367-4825-dbba-5b77b728ddd8"
      },
      "execution_count": 3,
      "outputs": [
        {
          "output_type": "stream",
          "name": "stdout",
          "text": [
            "[5, 50, 50, 70, 80, 100]\n",
            "355\n",
            "[7, 100, 95, 90, 80, 70, 60, 50]\n",
            "552\n"
          ]
        }
      ]
    },
    {
      "cell_type": "markdown",
      "source": [
        "#네번째 평균 구하기"
      ],
      "metadata": {
        "id": "vi7B6n6024Wd"
      }
    },
    {
      "cell_type": "code",
      "source": [
        "C = []\n",
        "for i in A:\n",
        "  B = i.split()\n",
        "  B = list(map(int,B))\n",
        "  sum = 0\n",
        "  i = 0\n",
        "  while i <=B[0]:\n",
        "    sum = sum + B[i]\n",
        "    i = i + 1\n",
        "  C.append(sum/B[0])\n",
        "print(\"그래서 평균은:\",C)\n",
        "\n"
      ],
      "metadata": {
        "colab": {
          "base_uri": "https://localhost:8080/"
        },
        "id": "eSu5l5LQ0UB_",
        "outputId": "c03d7e27-d644-48a2-ada1-c818b2decf02"
      },
      "execution_count": 4,
      "outputs": [
        {
          "output_type": "stream",
          "name": "stdout",
          "text": [
            "그래서 평균은: [71.0, 78.85714285714286]\n"
          ]
        }
      ]
    },
    {
      "cell_type": "markdown",
      "source": [
        "#다섯번째 1트: 몇명이 평균을 넘는지 알아야 한다."
      ],
      "metadata": {
        "id": "6Io6S2es3nB7"
      }
    },
    {
      "cell_type": "markdown",
      "source": [
        "5-1 for문을 기초로한 if문을 사용하려 하니\n",
        "\n",
        "'<' not supported between instances of 'str' and 'float'\n",
        "\n",
        "오류 발생\n",
        "\n",
        "-부등호는 문자열에서는 사용할 수 없다. 즉 for문은 못쓰겠네"
      ],
      "metadata": {
        "id": "ziSYI8T55N0A"
      }
    },
    {
      "cell_type": "code",
      "source": [
        "#이건 오류 발생\n",
        "'''\n",
        "D = []\n",
        "for i in C:\n",
        "  for j in A:\n",
        "    if j < i:\n",
        "      D.append(j)\n",
        "print(D)\n",
        "'''\n",
        "\n",
        "\n",
        "\n"
      ],
      "metadata": {
        "colab": {
          "base_uri": "https://localhost:8080/",
          "height": 246
        },
        "id": "4ZN7M5Ml3Bvt",
        "outputId": "0c1c3c70-c182-4983-d57a-2c35d14e5c0d"
      },
      "execution_count": null,
      "outputs": [
        {
          "output_type": "error",
          "ename": "TypeError",
          "evalue": "ignored",
          "traceback": [
            "\u001b[0;31m---------------------------------------------------------------------------\u001b[0m",
            "\u001b[0;31mTypeError\u001b[0m                                 Traceback (most recent call last)",
            "\u001b[0;32m<ipython-input-34-53d30fee221f>\u001b[0m in \u001b[0;36m<module>\u001b[0;34m()\u001b[0m\n\u001b[1;32m      4\u001b[0m \u001b[0;32mfor\u001b[0m \u001b[0mi\u001b[0m \u001b[0;32min\u001b[0m \u001b[0mC\u001b[0m\u001b[0;34m:\u001b[0m\u001b[0;34m\u001b[0m\u001b[0;34m\u001b[0m\u001b[0m\n\u001b[1;32m      5\u001b[0m   \u001b[0;32mfor\u001b[0m \u001b[0mj\u001b[0m \u001b[0;32min\u001b[0m \u001b[0mA\u001b[0m\u001b[0;34m:\u001b[0m\u001b[0;34m\u001b[0m\u001b[0;34m\u001b[0m\u001b[0m\n\u001b[0;32m----> 6\u001b[0;31m     \u001b[0;32mif\u001b[0m \u001b[0mC\u001b[0m\u001b[0;34m[\u001b[0m\u001b[0mj\u001b[0m\u001b[0;34m]\u001b[0m \u001b[0;34m<\u001b[0m \u001b[0mA\u001b[0m\u001b[0;34m[\u001b[0m\u001b[0mi\u001b[0m\u001b[0;34m]\u001b[0m\u001b[0;34m:\u001b[0m\u001b[0;34m\u001b[0m\u001b[0;34m\u001b[0m\u001b[0m\n\u001b[0m\u001b[1;32m      7\u001b[0m       \u001b[0mD\u001b[0m\u001b[0;34m.\u001b[0m\u001b[0mappend\u001b[0m\u001b[0;34m(\u001b[0m\u001b[0mj\u001b[0m\u001b[0;34m)\u001b[0m\u001b[0;34m\u001b[0m\u001b[0;34m\u001b[0m\u001b[0m\n\u001b[1;32m      8\u001b[0m \u001b[0mprint\u001b[0m\u001b[0;34m(\u001b[0m\u001b[0mD\u001b[0m\u001b[0;34m)\u001b[0m\u001b[0;34m\u001b[0m\u001b[0;34m\u001b[0m\u001b[0m\n",
            "\u001b[0;31mTypeError\u001b[0m: list indices must be integers or slices, not str"
          ]
        }
      ]
    },
    {
      "cell_type": "markdown",
      "source": [
        "5-2 그럼 while문을 사용해서 만들어 보자."
      ],
      "metadata": {
        "id": "UPkiB9rx5hfM"
      }
    },
    {
      "cell_type": "code",
      "source": [
        "n = int(input())\n",
        "A = []\n",
        "for i in range(0,n):\n",
        "  a = input()\n",
        "  A.append(a)\n",
        "print(\"난 A야:\", A)\n",
        "C = []\n",
        "\n",
        "for i in A:\n",
        "  B = i.split()\n",
        "  B = list(map(int,B))\n",
        "  print(\"난 B야\",B)\n",
        "  sum = 0\n",
        "  i = 1\n",
        "  while i <=B[0]:\n",
        "    sum = sum + B[i]\n",
        "    i = i + 1\n",
        "  C.append(sum/B[0])\n",
        "\n",
        "D = []\n",
        "E = []\n",
        "i = 1\n",
        "i = int(i)\n",
        "\n",
        "print(type(i))\n",
        "print(type(n))\n",
        "print( i + n)\n",
        "\n",
        "\n",
        "\n",
        "\n",
        "k = 0\n",
        "for i in A:\n",
        "  B = i.split()\n",
        "  B = list(map(int,B))\n",
        "  while i <= n:\n",
        "    while k < len(B)-1:\n",
        "      if C[i] <= B[k]:\n",
        "        D.append(B[k])\n",
        "      else: \n",
        "        E.append(B)\n",
        "\n",
        "\n",
        "\n",
        "\n",
        "\n",
        "  \n"
      ],
      "metadata": {
        "colab": {
          "base_uri": "https://localhost:8080/",
          "height": 411
        },
        "id": "QFxJt7dd5Hsx",
        "outputId": "43217e84-cb8d-486b-f9e7-3925da2f1729"
      },
      "execution_count": null,
      "outputs": [
        {
          "output_type": "stream",
          "name": "stdout",
          "text": [
            "2\n",
            "7 100 95 90 80 70 60 50\n",
            "5 50 50 70 80 100\n",
            "난 A야: ['7 100 95 90 80 70 60 50', '5 50 50 70 80 100']\n",
            "난 B야 [7, 100, 95, 90, 80, 70, 60, 50]\n",
            "난 B야 [5, 50, 50, 70, 80, 100]\n",
            "<class 'int'>\n",
            "<class 'int'>\n",
            "3\n"
          ]
        },
        {
          "output_type": "error",
          "ename": "TypeError",
          "evalue": "ignored",
          "traceback": [
            "\u001b[0;31m---------------------------------------------------------------------------\u001b[0m",
            "\u001b[0;31mTypeError\u001b[0m                                 Traceback (most recent call last)",
            "\u001b[0;32m<ipython-input-57-afd75e995cd8>\u001b[0m in \u001b[0;36m<module>\u001b[0;34m()\u001b[0m\n\u001b[1;32m     34\u001b[0m   \u001b[0mB\u001b[0m \u001b[0;34m=\u001b[0m \u001b[0mi\u001b[0m\u001b[0;34m.\u001b[0m\u001b[0msplit\u001b[0m\u001b[0;34m(\u001b[0m\u001b[0;34m)\u001b[0m\u001b[0;34m\u001b[0m\u001b[0;34m\u001b[0m\u001b[0m\n\u001b[1;32m     35\u001b[0m   \u001b[0mB\u001b[0m \u001b[0;34m=\u001b[0m \u001b[0mlist\u001b[0m\u001b[0;34m(\u001b[0m\u001b[0mmap\u001b[0m\u001b[0;34m(\u001b[0m\u001b[0mint\u001b[0m\u001b[0;34m,\u001b[0m\u001b[0mB\u001b[0m\u001b[0;34m)\u001b[0m\u001b[0;34m)\u001b[0m\u001b[0;34m\u001b[0m\u001b[0;34m\u001b[0m\u001b[0m\n\u001b[0;32m---> 36\u001b[0;31m   \u001b[0;32mwhile\u001b[0m \u001b[0mi\u001b[0m \u001b[0;34m<=\u001b[0m \u001b[0mn\u001b[0m\u001b[0;34m:\u001b[0m\u001b[0;34m\u001b[0m\u001b[0;34m\u001b[0m\u001b[0m\n\u001b[0m\u001b[1;32m     37\u001b[0m     \u001b[0;32mwhile\u001b[0m \u001b[0mk\u001b[0m \u001b[0;34m<\u001b[0m \u001b[0mlen\u001b[0m\u001b[0;34m(\u001b[0m\u001b[0mB\u001b[0m\u001b[0;34m)\u001b[0m\u001b[0;34m-\u001b[0m\u001b[0;36m1\u001b[0m\u001b[0;34m:\u001b[0m\u001b[0;34m\u001b[0m\u001b[0;34m\u001b[0m\u001b[0m\n\u001b[1;32m     38\u001b[0m       \u001b[0;32mif\u001b[0m \u001b[0mC\u001b[0m\u001b[0;34m[\u001b[0m\u001b[0mi\u001b[0m\u001b[0;34m]\u001b[0m \u001b[0;34m<=\u001b[0m \u001b[0mB\u001b[0m\u001b[0;34m[\u001b[0m\u001b[0mk\u001b[0m\u001b[0;34m]\u001b[0m\u001b[0;34m:\u001b[0m\u001b[0;34m\u001b[0m\u001b[0;34m\u001b[0m\u001b[0m\n",
            "\u001b[0;31mTypeError\u001b[0m: '<=' not supported between instances of 'str' and 'int'"
          ]
        }
      ]
    },
    {
      "cell_type": "markdown",
      "source": [
        "###틀렸다.\n",
        "\n",
        " list indices must be integers or slices, not str\n",
        "\n",
        " 내가 리스트를 B가 아닌 A로 두어서 틀렸다."
      ],
      "metadata": {
        "id": "K3tX9CCBmjvb"
      }
    },
    {
      "cell_type": "markdown",
      "source": [
        "# 다섯번째 2트: 몇명이 평균을 넘는지 알아야 한다."
      ],
      "metadata": {
        "id": "rrpGNeOhhLIp"
      }
    },
    {
      "cell_type": "code",
      "source": [
        "D = []\n",
        "print(B)\n",
        "for i in C:\n",
        "  print(i)\n",
        "  for j in B:\n",
        "    if i <= j:\n",
        "      D.append(j)\n",
        "    else:\n",
        "      pass\n",
        "    print(D)\n",
        "  D.clear()\n",
        "\n",
        "\n"
      ],
      "metadata": {
        "colab": {
          "base_uri": "https://localhost:8080/"
        },
        "id": "WdIMy7ujhS0K",
        "outputId": "06e3d193-f7c3-497f-9d71-0ac831941f9e"
      },
      "execution_count": null,
      "outputs": [
        {
          "output_type": "stream",
          "name": "stdout",
          "text": [
            "[5, 50, 50, 70, 80, 100]\n",
            "71.0\n",
            "[]\n",
            "[]\n",
            "[]\n",
            "[]\n",
            "[80]\n",
            "[80, 100]\n",
            "78.85714285714286\n",
            "[]\n",
            "[]\n",
            "[]\n",
            "[]\n",
            "[80]\n",
            "[80, 100]\n"
          ]
        }
      ]
    },
    {
      "cell_type": "markdown",
      "source": [
        "###틀렸다.\n",
        "\n",
        "C[0]일때 이코드는 B[0]과 B[1]둘다를 반복문으로 돌리고 있다."
      ],
      "metadata": {
        "id": "Ze0tFZ6skRCI"
      }
    },
    {
      "cell_type": "markdown",
      "source": [
        "#다섯번째 3트:몇명이 평균을 넘는지 알아야 한다."
      ],
      "metadata": {
        "id": "az63UopQ-n8t"
      }
    },
    {
      "cell_type": "code",
      "source": [
        "print(\"5개 case에 대한: 배열\",A)"
      ],
      "metadata": {
        "colab": {
          "base_uri": "https://localhost:8080/"
        },
        "id": "b_QsTvQj-vdx",
        "outputId": "2d2db256-ee99-4517-f59e-9181a3bbdca6"
      },
      "execution_count": null,
      "outputs": [
        {
          "output_type": "stream",
          "name": "stdout",
          "text": [
            "5개 case에 대한: 배열 ['5 50 50 70 80 100', '7 100 95 90 80 70 60 50']\n"
          ]
        }
      ]
    },
    {
      "cell_type": "code",
      "source": [
        "for i in A:\n",
        "  B = i.split()\n",
        "  B = list(map(int,B))\n",
        "  print(\"각 리스트를 스플릿해서 따로 만들어준\",B)"
      ],
      "metadata": {
        "colab": {
          "base_uri": "https://localhost:8080/"
        },
        "id": "hw0qm8Ji-0Np",
        "outputId": "38ccbe05-775a-40ce-9eb6-e0e2d9fae9c7"
      },
      "execution_count": null,
      "outputs": [
        {
          "output_type": "stream",
          "name": "stdout",
          "text": [
            "각 리스트를 스플릿해서 따로 만들어준 [5, 50, 50, 70, 80, 100]\n",
            "각 리스트를 스플릿해서 따로 만들어준 [7, 100, 95, 90, 80, 70, 60, 50]\n"
          ]
        }
      ]
    },
    {
      "cell_type": "code",
      "source": [
        "print(\"그래서 평균은:\",C)"
      ],
      "metadata": {
        "colab": {
          "base_uri": "https://localhost:8080/"
        },
        "id": "pc6Ss9gr--aa",
        "outputId": "37a78c7c-e7d8-47ee-a568-37d64878eda3"
      },
      "execution_count": null,
      "outputs": [
        {
          "output_type": "stream",
          "name": "stdout",
          "text": [
            "그래서 평균은: [71.0, 78.85714285714286]\n"
          ]
        }
      ]
    },
    {
      "cell_type": "markdown",
      "source": [
        "그럼 우리는 각 B라는 리스트 내에서 C값을 넘는 값들을 리스트로 만들든 어쩌든 해야 한다."
      ],
      "metadata": {
        "id": "Htg02IAK_jmr"
      }
    },
    {
      "cell_type": "code",
      "source": [
        "for i in A:\n",
        "  B = i.split()\n",
        "  B = list(map(int,B))\n",
        "  for j in C:\n",
        "    for k in B:\n",
        "      if j <= k:\n",
        "        D.append(k)\n",
        "      else:\n",
        "        pass\n",
        "    print(D)\n",
        "    print(len(D)/(len(B)-1))\n",
        "    D.clear()\n"
      ],
      "metadata": {
        "colab": {
          "base_uri": "https://localhost:8080/",
          "height": 250
        },
        "id": "_DBp8tqe_rII",
        "outputId": "22f6553c-13fa-4811-b310-fe71ddee2437"
      },
      "execution_count": null,
      "outputs": [
        {
          "output_type": "error",
          "ename": "NameError",
          "evalue": "ignored",
          "traceback": [
            "\u001b[0;31m---------------------------------------------------------------------------\u001b[0m",
            "\u001b[0;31mNameError\u001b[0m                                 Traceback (most recent call last)",
            "\u001b[0;32m<ipython-input-9-92fef3bf3c99>\u001b[0m in \u001b[0;36m<module>\u001b[0;34m()\u001b[0m\n\u001b[1;32m      5\u001b[0m     \u001b[0;32mfor\u001b[0m \u001b[0mk\u001b[0m \u001b[0;32min\u001b[0m \u001b[0mB\u001b[0m\u001b[0;34m:\u001b[0m\u001b[0;34m\u001b[0m\u001b[0;34m\u001b[0m\u001b[0m\n\u001b[1;32m      6\u001b[0m       \u001b[0;32mif\u001b[0m \u001b[0mj\u001b[0m \u001b[0;34m<=\u001b[0m \u001b[0mk\u001b[0m\u001b[0;34m:\u001b[0m\u001b[0;34m\u001b[0m\u001b[0;34m\u001b[0m\u001b[0m\n\u001b[0;32m----> 7\u001b[0;31m         \u001b[0mD\u001b[0m\u001b[0;34m.\u001b[0m\u001b[0mappend\u001b[0m\u001b[0;34m(\u001b[0m\u001b[0mk\u001b[0m\u001b[0;34m)\u001b[0m\u001b[0;34m\u001b[0m\u001b[0;34m\u001b[0m\u001b[0m\n\u001b[0m\u001b[1;32m      8\u001b[0m       \u001b[0;32melse\u001b[0m\u001b[0;34m:\u001b[0m\u001b[0;34m\u001b[0m\u001b[0;34m\u001b[0m\u001b[0m\n\u001b[1;32m      9\u001b[0m         \u001b[0;32mpass\u001b[0m\u001b[0;34m\u001b[0m\u001b[0;34m\u001b[0m\u001b[0m\n",
            "\u001b[0;31mNameError\u001b[0m: name 'D' is not defined"
          ]
        }
      ]
    },
    {
      "cell_type": "markdown",
      "source": [
        "왜 배열이 2번 도는 거냐"
      ],
      "metadata": {
        "id": "aELRngHHJy6g"
      }
    },
    {
      "cell_type": "code",
      "source": [
        "n = int(input())\n",
        "A = []\n",
        "for i in range(0,n):\n",
        "  a = input()\n",
        "  A.append(a)\n",
        "\n",
        "\n",
        "for i in A:\n",
        "  B = i.split()\n",
        "  B = list(map(int,B))\n",
        "\n",
        "\n",
        "for i in A:\n",
        "  B = i.split()\n",
        "  B = list(map(int,B))\n",
        "  sum = 0\n",
        "  i = 1\n",
        "  while i <=B[0]:\n",
        "    sum = sum + B[i]\n",
        "    i = i + 1\n",
        "\n",
        "\n",
        "C = []\n",
        "for i in A:\n",
        "  B = i.split()\n",
        "  B = list(map(int,B))\n",
        "  sum = 0\n",
        "  i = 0\n",
        "  while i <=B[0]:\n",
        "    sum = sum + B[i]\n",
        "    i = i + 1\n",
        "  C.append(sum/B[0])\n",
        "\n",
        "\n",
        "D = []\n",
        "E = []\n",
        "for i in A:\n",
        "  B = i.split()\n",
        "  B = list(map(int,B))\n",
        "  for j in C:\n",
        "    for k in B:\n",
        "      if j <= k:\n",
        "        D.append(k)\n",
        "      else:\n",
        "        pass\n",
        "    E.append(len(D)/(len(B)-1))\n",
        "    print(E)\n",
        "    \n",
        "    D.clear()\n",
        "    E.clear()\n"
      ],
      "metadata": {
        "colab": {
          "base_uri": "https://localhost:8080/"
        },
        "id": "cwaJ1NmEWqwR",
        "outputId": "acb41884-ace5-45d2-9c9f-e1cbbe202cbf"
      },
      "execution_count": null,
      "outputs": [
        {
          "output_type": "stream",
          "name": "stdout",
          "text": [
            "2\n",
            "9 100 99 98 97 96 95 94 93 91\n",
            "3 70 90 81\n",
            "[0.4444444444444444, 1.0, 0.0, 0.3333333333333333]\n"
          ]
        }
      ]
    },
    {
      "cell_type": "code",
      "source": [
        ""
      ],
      "metadata": {
        "id": "YifUm5rOWv_5"
      },
      "execution_count": null,
      "outputs": []
    },
    {
      "cell_type": "markdown",
      "source": [
        "#다섯번째 4트:몇명이 평균을 넘는지 알아야 한다."
      ],
      "metadata": {
        "id": "sxiDtzmbW14r"
      }
    },
    {
      "cell_type": "markdown",
      "source": [
        "각 요소를 스플릿 한것들에 대해서 평균을 넘는지 아닌지 반복문으로 확인해야 한다.\n",
        "\n",
        "만일 평균값을 C라는 리스트에 append를 안한다면?"
      ],
      "metadata": {
        "id": "QsCjs-LqXMrW"
      }
    },
    {
      "cell_type": "markdown",
      "source": [
        "일단 split문을 다시 들고오자."
      ],
      "metadata": {
        "id": "KGW9A9pMXz1I"
      }
    },
    {
      "cell_type": "code",
      "source": [
        "\n",
        "for i in A:\n",
        "  B = i.split()\n",
        "  B = list(map(int,B))\n",
        "  sum = 0\n",
        "  i = 0\n",
        "  while i <=B[0]:\n",
        "    sum = sum + B[i]\n",
        "    i = i + 1\n",
        "  C = sum/B[0]\n"
      ],
      "metadata": {
        "colab": {
          "base_uri": "https://localhost:8080/"
        },
        "id": "aI6DyEIDaTP5",
        "outputId": "9c7f4b15-b724-4879-e47c-445d0c2a8c10"
      },
      "execution_count": 6,
      "outputs": [
        {
          "output_type": "stream",
          "name": "stdout",
          "text": [
            "71.0\n",
            "78.85714285714286\n"
          ]
        }
      ]
    },
    {
      "cell_type": "code",
      "source": [
        "n = int(input())\n",
        "A = []\n",
        "for i in range(0,n):\n",
        "  a = input()\n",
        "  A.append(a)\n",
        "D = []\n",
        "for i in A:\n",
        "  B = i.split()\n",
        "  B = list(map(int,B))\n",
        "  print\n",
        "  sum = 0\n",
        "  i = 1\n",
        "  while i <=B[0]:\n",
        "    sum = sum + B[i]\n",
        "    i = i + 1\n",
        "  C = sum/B[0]\n",
        "\n",
        "  for k in B[1:]:\n",
        "    if C < k:\n",
        "      D.append(k)\n",
        "    else:\n",
        "      pass\n",
        "  print(\"%0.3f%%\" %((len(D)/B[0])*100))\n",
        "  D.clear()"
      ],
      "metadata": {
        "colab": {
          "base_uri": "https://localhost:8080/"
        },
        "id": "MdQOcLUWapwm",
        "outputId": "fb11bcc6-55d0-4a0c-d0b6-98f439c673ae"
      },
      "execution_count": 57,
      "outputs": [
        {
          "output_type": "stream",
          "name": "stdout",
          "text": [
            "6\n",
            "2 0 0\n",
            "5 50 50 70 80 100\n",
            "7 100 95 90 80 70 60 50\n",
            "3 70 90 80\n",
            "3 70 90 81\n",
            "9 100 99 98 97 96 95 94 93 91\n",
            "0.000%\n",
            "40.000%\n",
            "57.143%\n",
            "33.333%\n",
            "66.667%\n",
            "55.556%\n"
          ]
        }
      ]
    },
    {
      "cell_type": "markdown",
      "source": [
        "항상 APPEND로 리스트에 넣어서 푸는 것으로 생각하지 마라. 이렇게 여러 반복문을 통해서 문제를 해결 할 수 있다. \n",
        "\n",
        "그리고 파이썬에서 %를 표현하는 새로운 방법을 배웠다.\n",
        "\n",
        "processpoint = 100\n",
        "\n",
        "print( \"%0.f%%\" % processpoint)\n",
        "\n",
        "만약 소수 3번째 자리에서 반올림을 하려면 \n",
        "\n",
        "print( \"%0.3f%%\" % processpoint)\n"
      ],
      "metadata": {
        "id": "8_MDpwdKkiLS"
      }
    },
    {
      "cell_type": "code",
      "source": [
        ""
      ],
      "metadata": {
        "id": "PTnp1PZ6k9Sm"
      },
      "execution_count": null,
      "outputs": []
    }
  ]
}