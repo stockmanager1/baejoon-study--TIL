{
  "nbformat": 4,
  "nbformat_minor": 0,
  "metadata": {
    "colab": {
      "name": "A+B - 4 트리이.ipynb",
      "provenance": [],
      "collapsed_sections": []
    },
    "kernelspec": {
      "name": "python3",
      "display_name": "Python 3"
    },
    "language_info": {
      "name": "python"
    }
  },
  "cells": [
    {
      "cell_type": "markdown",
      "source": [
        "#문제의 핵심\n",
        "\n",
        "A + B -3과 다르게 몇개의 n이 주어지는지 모른다.\n",
        "\n",
        "이럴 경우 반복문을 만들어라"
      ],
      "metadata": {
        "id": "EqQ9TPuyeWTe"
      }
    },
    {
      "cell_type": "markdown",
      "source": [
        "##1트 무한 루프\n",
        "\n",
        "while문을 사용해서 무한 루프 반복문을 만들어야 한다.\n",
        "\n",
        "while True: 로 사용\n",
        "\n",
        "근데 루프를 언제 끝내야 하는지가 관건이다."
      ],
      "metadata": {
        "id": "vUuHvyCJeoGS"
      }
    },
    {
      "cell_type": "markdown",
      "source": [
        "###1-1.만약 n이 5개라고 주어진다면 이렇게 풀 수 있다."
      ],
      "metadata": {
        "id": "pWyqFXrZg2kQ"
      }
    },
    {
      "cell_type": "code",
      "source": [
        "A = []\n",
        "while True:\n",
        "  a,b = map(int,input().split())\n",
        "  A.append(a+b)\n",
        "  if len(A) == 5:\n",
        "    break\n",
        "\n",
        "for i in A:\n",
        "  print(i)"
      ],
      "metadata": {
        "colab": {
          "base_uri": "https://localhost:8080/"
        },
        "id": "O-jZqHb6eLw0",
        "outputId": "7347c958-427c-476f-fe4b-74edf24e7a9d"
      },
      "execution_count": null,
      "outputs": [
        {
          "output_type": "stream",
          "name": "stdout",
          "text": [
            "1 1\n",
            "2 3\n",
            "3 4\n",
            "9 8\n",
            "5 2\n",
            "2\n",
            "5\n",
            "7\n",
            "17\n",
            "7\n"
          ]
        }
      ]
    },
    {
      "cell_type": "markdown",
      "source": [
        "하지만 여기서는 n의 수가 주어지지 않아서 이건 x\n"
      ],
      "metadata": {
        "id": "GABJKjvVg7cM"
      }
    },
    {
      "cell_type": "markdown",
      "source": [
        "###1-2.예외저리를 이용해서 풀어보자.\n",
        "예외 처리란: 에러가 발생했을 때 프로그램이 죽지 않도록 한다! 그것이 예외처리\n",
        "\n",
        "try, except 문을 사용하자"
      ],
      "metadata": {
        "id": "clRBxL8opPWb"
      }
    },
    {
      "cell_type": "markdown",
      "source": [
        "try, except 문이란?"
      ],
      "metadata": {
        "id": "pWOwN4wZqm-5"
      }
    },
    {
      "cell_type": "code",
      "source": [
        "#일반적인 try, except문\n",
        "try:\n",
        "  x = int(input())\n",
        "  y = 10/x\n",
        "  print(y)\n",
        "except:\n",
        "  print(\"예외 발생\")\n",
        "\n",
        "#x가 0이면 계산이 불가능해서 예외가 발생한다고 나온다.\n",
        "#하지만 x가 0이 아니라면 정상적으로 나눌 수 있다.\n",
        "\n",
        "\n",
        "#특정 예외가 존재할때\n",
        "\n",
        "#try:\n",
        "#    실행할 코드\n",
        "#except 예외이름:\n",
        "#    예외가 발생했을 때 처리하는 코드\n",
        "\n",
        "#형태로 사용\n",
        "\n",
        "y = [10,20,30]\n",
        "\n",
        "try:\n",
        "  index,x = map(int,input().split())\n",
        "  print(y[index] / x)\n",
        "except ZeroDivisionError:    # 숫자를 0으로 나눠서 에러가 발생했을 때 실행됨\n",
        "    print('숫자를 0으로 나눌 수 없습니다.')\n",
        "except IndexError:           # 범위를 벗어난 인덱스에 접근하여 에러가 발생했을 때 실행됨\n",
        "    print('잘못된 인덱스입니다.')"
      ],
      "metadata": {
        "colab": {
          "base_uri": "https://localhost:8080/"
        },
        "id": "fRSLvc7lgg8i",
        "outputId": "f158be36-e760-4cf4-9ec0-c7c8dbfe5b25"
      },
      "execution_count": null,
      "outputs": [
        {
          "output_type": "stream",
          "name": "stdout",
          "text": [
            "1 \n",
            "10.0\n",
            "2 0\n",
            "숫자를 0으로 나눌 수 없습니다.\n"
          ]
        }
      ]
    },
    {
      "cell_type": "markdown",
      "source": [
        "근데 결국 반복문이 필요하니까 이번에는 무한 루프 + try문을 써보자"
      ],
      "metadata": {
        "id": "3v0RTuNLPZ8X"
      }
    },
    {
      "cell_type": "code",
      "source": [
        "try:\n",
        "  A,B = map(int,input().split())\n",
        "  print(A + B)\n",
        "except:\n",
        "  print()"
      ],
      "metadata": {
        "id": "ax43CA41q2tz",
        "colab": {
          "base_uri": "https://localhost:8080/"
        },
        "outputId": "d8764865-092b-4cfc-a200-1c3a6665d912"
      },
      "execution_count": 2,
      "outputs": [
        {
          "output_type": "stream",
          "name": "stdout",
          "text": [
            "1 1\n",
            "2\n"
          ]
        }
      ]
    },
    {
      "cell_type": "code",
      "source": [
        "while 1:\n",
        "    try:\n",
        "      A,B = map(int,input().split())\n",
        "      print(A + B)\n",
        "    except:\n",
        "      break    \n",
        "    "
      ],
      "metadata": {
        "colab": {
          "base_uri": "https://localhost:8080/"
        },
        "id": "gPlZG5GvNz0M",
        "outputId": "65d6cc4c-a345-4211-ef2d-68ea85250944"
      },
      "execution_count": 3,
      "outputs": [
        {
          "name": "stdout",
          "output_type": "stream",
          "text": [
            "1 1\n",
            "2\n",
            "2 3\n",
            "5\n",
            "3 4\n",
            "7\n",
            "9 8\n",
            "17\n",
            "5 2\n",
            "7\n",
            "\n"
          ]
        }
      ]
    },
    {
      "cell_type": "code",
      "source": [
        ""
      ],
      "metadata": {
        "id": "3U4FnDCaOnMO"
      },
      "execution_count": null,
      "outputs": []
    }
  ]
}