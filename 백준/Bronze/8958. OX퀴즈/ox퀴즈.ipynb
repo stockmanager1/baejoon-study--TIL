{
  "nbformat": 4,
  "nbformat_minor": 0,
  "metadata": {
    "colab": {
      "name": "ox퀴즈.ipynb",
      "provenance": [],
      "collapsed_sections": []
    },
    "kernelspec": {
      "name": "python3",
      "display_name": "Python 3"
    },
    "language_info": {
      "name": "python"
    }
  },
  "cells": [
    {
      "cell_type": "markdown",
      "source": [
        "#1트: a값을 리스트로 받고 append해서 중복값을 clear로 제거"
      ],
      "metadata": {
        "id": "YbjISO6fWylO"
      }
    },
    {
      "cell_type": "code",
      "source": [
        "#n값 구하기\n",
        "n = int(input())\n",
        "E = []\n",
        "#ox값 받기\n",
        "for i in range(n):\n",
        "    a= input().split('X')\n",
        "    a = ' '.join(a).split()\n",
        "\n",
        "#각 a값을 리스트로 받아야 한다.\n",
        "    for i in a:\n",
        "      C = list(i)\n",
        "\n",
        "      i = 0\n",
        "      sum = 0\n",
        "      for i in range(0,len(C)+1):\n",
        "        sum=sum+i\n",
        "\n",
        "      E.append(sum)\n",
        "\n",
        "    del sum\n",
        "    print(sum(E))\n",
        "    E.clear()\n",
        "\n"
      ],
      "metadata": {
        "colab": {
          "base_uri": "https://localhost:8080/"
        },
        "id": "Me9B5YZrV9OG",
        "outputId": "02ee2c02-8465-493f-ba5d-5caa88538ad3"
      },
      "execution_count": 8,
      "outputs": [
        {
          "output_type": "stream",
          "name": "stdout",
          "text": [
            "2\n",
            "OOXXOOXXOO\n",
            "9\n",
            "OOXXOXXOOO\n",
            "10\n"
          ]
        }
      ]
    },
    {
      "cell_type": "markdown",
      "source": [
        "코랩에서는 정답이 나오지만 백준은 런타임 에러\n",
        "\n",
        "----> 계속 E값을 append로 늘려서 그런듯?"
      ],
      "metadata": {
        "id": "gzXnOM0kZJDL"
      }
    },
    {
      "cell_type": "markdown",
      "source": [
        "#2. append말고 다른 방법 찾기"
      ],
      "metadata": {
        "id": "jZ1-UHC8ZXqs"
      }
    },
    {
      "cell_type": "markdown",
      "source": [
        "##2-1 for문을 사용한 합"
      ],
      "metadata": {
        "id": "6KFgNR3SnGTa"
      }
    },
    {
      "cell_type": "markdown",
      "source": [
        "리스트 A값이 정수가 아니라 문자열로 구성되어서 그런가?"
      ],
      "metadata": {
        "id": "z3dB7st_rISh"
      }
    },
    {
      "cell_type": "code",
      "source": [
        "#n값 구하기\n",
        "n = int(input())\n",
        "E = []\n",
        "F = []\n",
        "#ox값 받기\n",
        "for i in range(n):\n",
        "    a= input().split('X')\n",
        "    a = ' '.join(a).split()\n",
        "\n",
        "#각 a값을 리스트로 받아야 한다.\n",
        "    for i in a:\n",
        "      C = list(i)\n",
        "      print(\"C값:\",C)\n",
        "\n",
        "      k = 0\n",
        "      sum = 0\n",
        "      for i in C:\n",
        "        sum = sum + i\n",
        "\n",
        "      E.append(sum)\n",
        "    print(E)\n",
        "    for j in range(0,len(E)+1):\n",
        "      k = k + j\n",
        "    F.append(k)\n",
        "    print(F)\n",
        "\n",
        "      \n",
        "\n",
        "\n"
      ],
      "metadata": {
        "colab": {
          "base_uri": "https://localhost:8080/",
          "height": 301
        },
        "id": "rI2LOAK_dRCw",
        "outputId": "4f262066-8981-4496-a1fc-ca66b26eb305"
      },
      "execution_count": 1,
      "outputs": [
        {
          "output_type": "stream",
          "name": "stdout",
          "text": [
            "2\n",
            "OOXXOXXOOO\n",
            "C값: ['O', 'O']\n"
          ]
        },
        {
          "output_type": "error",
          "ename": "TypeError",
          "evalue": "ignored",
          "traceback": [
            "\u001b[0;31m---------------------------------------------------------------------------\u001b[0m",
            "\u001b[0;31mTypeError\u001b[0m                                 Traceback (most recent call last)",
            "\u001b[0;32m<ipython-input-1-a0316dd4ab5c>\u001b[0m in \u001b[0;36m<module>\u001b[0;34m()\u001b[0m\n\u001b[1;32m     16\u001b[0m       \u001b[0msum\u001b[0m \u001b[0;34m=\u001b[0m \u001b[0;36m0\u001b[0m\u001b[0;34m\u001b[0m\u001b[0;34m\u001b[0m\u001b[0m\n\u001b[1;32m     17\u001b[0m       \u001b[0;32mfor\u001b[0m \u001b[0mi\u001b[0m \u001b[0;32min\u001b[0m \u001b[0mC\u001b[0m\u001b[0;34m:\u001b[0m\u001b[0;34m\u001b[0m\u001b[0;34m\u001b[0m\u001b[0m\n\u001b[0;32m---> 18\u001b[0;31m         \u001b[0msum\u001b[0m \u001b[0;34m=\u001b[0m \u001b[0msum\u001b[0m \u001b[0;34m+\u001b[0m \u001b[0mi\u001b[0m\u001b[0;34m\u001b[0m\u001b[0;34m\u001b[0m\u001b[0m\n\u001b[0m\u001b[1;32m     19\u001b[0m \u001b[0;34m\u001b[0m\u001b[0m\n\u001b[1;32m     20\u001b[0m       \u001b[0mE\u001b[0m\u001b[0;34m.\u001b[0m\u001b[0mappend\u001b[0m\u001b[0;34m(\u001b[0m\u001b[0msum\u001b[0m\u001b[0;34m)\u001b[0m\u001b[0;34m\u001b[0m\u001b[0;34m\u001b[0m\u001b[0m\n",
            "\u001b[0;31mTypeError\u001b[0m: unsupported operand type(s) for +: 'int' and 'str'"
          ]
        }
      ]
    },
    {
      "cell_type": "markdown",
      "source": [
        "#3. 컴파일러를 돌리고 틀린점을 알게됨.\n",
        "\n",
        "20번째 줄에 del이 문제였던것!!"
      ],
      "metadata": {
        "id": "9Yh63jFeIjzi"
      }
    },
    {
      "cell_type": "code",
      "source": [
        "#n값 구하기\n",
        "n = int(input())\n",
        "E = []\n",
        "#ox값 받기\n",
        "for i in range(n):\n",
        "    a= input().split('X')\n",
        "    a = ' '.join(a).split()\n",
        "\n",
        "#각 a값을 리스트로 받아야 한다.\n",
        "    for i in a:\n",
        "      C = list(i)\n",
        "\n",
        "      i = 0\n",
        "      sum = 0\n",
        "      for i in range(0,len(C)+1):\n",
        "        sum=sum+i\n",
        "\n",
        "      E.append(sum)\n",
        "    sum = 0\n",
        "    for i in E:\n",
        "      sum = sum + i\n",
        "    print(sum)\n",
        "    E.clear()"
      ],
      "metadata": {
        "id": "2biQ1bzwV88o"
      },
      "execution_count": null,
      "outputs": []
    },
    {
      "cell_type": "markdown",
      "source": [
        "끝~~"
      ],
      "metadata": {
        "id": "PIbO5y9AIumC"
      }
    },
    {
      "cell_type": "code",
      "source": [
        ""
      ],
      "metadata": {
        "id": "m0KTkAKVIvUo"
      },
      "execution_count": null,
      "outputs": []
    }
  ]
}