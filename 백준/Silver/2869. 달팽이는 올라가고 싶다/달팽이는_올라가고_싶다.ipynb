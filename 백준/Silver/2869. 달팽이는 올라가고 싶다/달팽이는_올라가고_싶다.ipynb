{
  "nbformat": 4,
  "nbformat_minor": 0,
  "metadata": {
    "colab": {
      "provenance": [],
      "collapsed_sections": []
    },
    "kernelspec": {
      "name": "python3",
      "display_name": "Python 3"
    },
    "language_info": {
      "name": "python"
    }
  },
  "cells": [
    {
      "cell_type": "markdown",
      "source": [
        "#1트"
      ],
      "metadata": {
        "id": "itkYNr_9kTeU"
      }
    },
    {
      "cell_type": "markdown",
      "source": [
        "#구상\n",
        "\n",
        "1. input을 받고\n",
        "2. 상승 구현\n",
        "3. 하락 구현\n",
        "4. if n ==v -----> break"
      ],
      "metadata": {
        "id": "hKKRF4C7fUM9"
      }
    },
    {
      "cell_type": "markdown",
      "source": [
        "#input을 받고"
      ],
      "metadata": {
        "id": "qTGaZmCTpQ9-"
      }
    },
    {
      "cell_type": "code",
      "source": [
        "A,B,C = input().split()\n",
        "A = int(A)\n",
        "B = int(B)\n",
        "C = int(C)\n",
        "\n",
        "print(A)\n",
        "print(B)\n",
        "print(C)"
      ],
      "metadata": {
        "id": "-oodt8wMHCH4",
        "colab": {
          "base_uri": "https://localhost:8080/"
        },
        "outputId": "f78d01e7-e089-4bf9-cd78-058b67ece36e"
      },
      "execution_count": null,
      "outputs": [
        {
          "output_type": "stream",
          "name": "stdout",
          "text": [
            "100 99 1000000000\n",
            "100\n",
            "99\n",
            "1000000000\n"
          ]
        }
      ]
    },
    {
      "cell_type": "markdown",
      "source": [
        "#구현"
      ],
      "metadata": {
        "id": "q32grZinpTwA"
      }
    },
    {
      "cell_type": "code",
      "source": [
        "A,B,C = input().split()\n",
        "A = int(A)\n",
        "B = int(B)\n",
        "C = int(C)\n",
        "\n",
        "go = 0\n",
        "j = 0\n",
        "while True:\n",
        "  go = go + A\n",
        "  back = go - B\n",
        "  if go < C:\n",
        "    go = back\n",
        "    j = j + 1\n",
        "  elif go >= 5:\n",
        "    print(j+1)\n",
        "    break\n",
        "\n",
        "  "
      ],
      "metadata": {
        "id": "pUIuupURpEia",
        "colab": {
          "base_uri": "https://localhost:8080/",
          "height": 248
        },
        "outputId": "12b3dd1f-eb43-4dda-c02f-9a184ccefe47"
      },
      "execution_count": null,
      "outputs": [
        {
          "output_type": "error",
          "ename": "KeyboardInterrupt",
          "evalue": "ignored",
          "traceback": [
            "\u001b[0;31m---------------------------------------------------------------------------\u001b[0m",
            "\u001b[0;31mKeyboardInterrupt\u001b[0m                         Traceback (most recent call last)",
            "\u001b[0;32m<ipython-input-4-ea63180e51f6>\u001b[0m in \u001b[0;36m<module>\u001b[0;34m\u001b[0m\n\u001b[1;32m      4\u001b[0m   \u001b[0mgo\u001b[0m \u001b[0;34m=\u001b[0m \u001b[0mi\u001b[0m \u001b[0;34m+\u001b[0m \u001b[0mA\u001b[0m\u001b[0;34m\u001b[0m\u001b[0;34m\u001b[0m\u001b[0m\n\u001b[1;32m      5\u001b[0m   \u001b[0mback\u001b[0m \u001b[0;34m=\u001b[0m \u001b[0mgo\u001b[0m \u001b[0;34m-\u001b[0m \u001b[0mB\u001b[0m\u001b[0;34m\u001b[0m\u001b[0;34m\u001b[0m\u001b[0m\n\u001b[0;32m----> 6\u001b[0;31m   \u001b[0;32mif\u001b[0m \u001b[0mgo\u001b[0m \u001b[0;34m==\u001b[0m \u001b[0;36m5\u001b[0m\u001b[0;34m:\u001b[0m\u001b[0;34m\u001b[0m\u001b[0;34m\u001b[0m\u001b[0m\n\u001b[0m\u001b[1;32m      7\u001b[0m     \u001b[0;32mbreak\u001b[0m\u001b[0;34m\u001b[0m\u001b[0;34m\u001b[0m\u001b[0m\n\u001b[1;32m      8\u001b[0m   \u001b[0;32melse\u001b[0m\u001b[0;34m:\u001b[0m\u001b[0;34m\u001b[0m\u001b[0;34m\u001b[0m\u001b[0m\n",
            "\u001b[0;31mKeyboardInterrupt\u001b[0m: "
          ]
        }
      ]
    },
    {
      "cell_type": "markdown",
      "source": [
        "100 99 1000000000 이 예시에서 끝도 없는 루프에 빠짐"
      ],
      "metadata": {
        "id": "AUlXIJPKkFUm"
      }
    },
    {
      "cell_type": "markdown",
      "source": [
        "#2트"
      ],
      "metadata": {
        "id": "SXu2BAg6kSMR"
      }
    },
    {
      "cell_type": "markdown",
      "source": [
        "상승과 하락의 차익분에 곱하면?"
      ],
      "metadata": {
        "id": "AJrrURpEkq6i"
      }
    },
    {
      "cell_type": "code",
      "source": [
        "n = 0\n",
        "while True:\n",
        "  length = A - B\n",
        "  if length * n >= C:\n",
        "    print(n-1)\n",
        "    break\n",
        "  else : \n",
        "    pass\n",
        "  n = n + 1"
      ],
      "metadata": {
        "colab": {
          "base_uri": "https://localhost:8080/"
        },
        "id": "ubKgOGf5g5Eh",
        "outputId": "6198e45b-436d-4412-c5d6-6dd4f8f7cebf"
      },
      "execution_count": null,
      "outputs": [
        {
          "output_type": "stream",
          "name": "stdout",
          "text": [
            "4\n"
          ]
        }
      ]
    },
    {
      "cell_type": "markdown",
      "source": [
        "여전히 100 99를 해결하지 못함"
      ],
      "metadata": {
        "id": "pM9edvaZmcf7"
      }
    },
    {
      "cell_type": "markdown",
      "source": [
        "#3트 나누어보자.\n",
        "대신 이때 우리는 마지막에 올라갈 분을 빼고 생각해야 한다."
      ],
      "metadata": {
        "id": "VK2ttdhYmfIa"
      }
    },
    {
      "cell_type": "code",
      "source": [
        "all_length = C - A\n",
        "go_length = A - B\n",
        "print(int(all_length / go_length) + 1)"
      ],
      "metadata": {
        "colab": {
          "base_uri": "https://localhost:8080/"
        },
        "id": "scyHaGU_lQn6",
        "outputId": "9a4d0817-8800-4ee1-d4d9-18026eebb126"
      },
      "execution_count": null,
      "outputs": [
        {
          "output_type": "stream",
          "name": "stdout",
          "text": [
            "999999901\n"
          ]
        }
      ]
    },
    {
      "cell_type": "code",
      "source": [
        "A,B,C = input().split()\n",
        "A = int(A)\n",
        "B = int(B)\n",
        "C = int(C)\n",
        "\n",
        "all_length = C - A\n",
        "go_length = A - B\n",
        "if all_length < go_length:\n",
        "    print(int(all_length / go_length) + 2)\n",
        "else:\n",
        "    print(int(all_length / go_length) + 1)"
      ],
      "metadata": {
        "id": "d9aEV5CZmyaW"
      },
      "execution_count": null,
      "outputs": []
    },
    {
      "cell_type": "markdown",
      "source": [
        "반례 4 2 7 존재"
      ],
      "metadata": {
        "id": "Sl3q2XvYQVBb"
      }
    },
    {
      "cell_type": "code",
      "source": [
        "import math\n",
        "A,B,C = input().split()\n",
        "A = int(A)\n",
        "B = int(B)\n",
        "C = int(C)\n",
        "\n",
        "all_length = C - A\n",
        "go_length = A - B\n",
        "if A == C:\n",
        "  print(1)\n",
        "else:\n",
        "  print(int(math.ceil(all_length / go_length)) + 1)"
      ],
      "metadata": {
        "id": "VBog-lG6nW9E",
        "colab": {
          "base_uri": "https://localhost:8080/"
        },
        "outputId": "57f623a9-c58a-4fe7-b9e4-6826b4d5e9fb"
      },
      "execution_count": null,
      "outputs": [
        {
          "output_type": "stream",
          "name": "stdout",
          "text": [
            "4 2 7\n",
            "3\n"
          ]
        }
      ]
    },
    {
      "cell_type": "markdown",
      "source": [
        "반례 3 1 3"
      ],
      "metadata": {
        "id": "-3kSTOzNSeU6"
      }
    },
    {
      "cell_type": "code",
      "source": [],
      "metadata": {
        "id": "TGnBFSThSf0R"
      },
      "execution_count": null,
      "outputs": []
    }
  ]
}