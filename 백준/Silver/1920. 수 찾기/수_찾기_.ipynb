{
  "nbformat": 4,
  "nbformat_minor": 0,
  "metadata": {
    "colab": {
      "name": "수 찾기 .ipynb",
      "provenance": [],
      "collapsed_sections": []
    },
    "kernelspec": {
      "name": "python3",
      "display_name": "Python 3"
    },
    "language_info": {
      "name": "python"
    }
  },
  "cells": [
    {
      "cell_type": "markdown",
      "source": [
        "#구상\n",
        "1. input받기\n",
        "2. 이분탐색 함수 구현\n",
        "3. 2번째 줄 리스트에서 하나씩 비교\n",
        "3. 4번째 리스트를 1과 0으로 이루어진 리스트로 만들기\n",
        "4. 반복문으로 출력하기"
      ],
      "metadata": {
        "id": "1FZvfGPWusIW"
      }
    },
    {
      "cell_type": "markdown",
      "source": [
        "input받기"
      ],
      "metadata": {
        "id": "2E9d2BPEvN2K"
      }
    },
    {
      "cell_type": "code",
      "source": [
        "A = int(input())\n",
        "B = list(map(int,input().split()))\n",
        "C = int(input())\n",
        "D = list(map(int,input().split()))\n",
        "\n",
        "B.sort()\n",
        "\n",
        "print(A)\n",
        "print(B)\n",
        "print(C)\n",
        "print(D)"
      ],
      "metadata": {
        "colab": {
          "base_uri": "https://localhost:8080/"
        },
        "id": "W7Z6U6jorIpp",
        "outputId": "8752a7ac-2f74-4877-8f32-2cb012ddb9a9"
      },
      "execution_count": 7,
      "outputs": [
        {
          "output_type": "stream",
          "name": "stdout",
          "text": [
            "5\n",
            "4 1 5 2 3\n",
            "5\n",
            "1 3 7 9 5\n",
            "5\n",
            "[1, 2, 3, 4, 5]\n",
            "5\n",
            "[1, 3, 7, 9, 5]\n"
          ]
        }
      ]
    },
    {
      "cell_type": "markdown",
      "source": [
        "이분탐색 함수 구현"
      ],
      "metadata": {
        "id": "PrvygBX1SV2t"
      }
    },
    {
      "cell_type": "code",
      "source": [
        "def 이분탐색(array,target,start,end):\n",
        "  while start <= end:\n",
        "    mid = (start + end) // 2\n",
        "    if array[mid] == target:\n",
        "      return 1\n",
        "    elif array[mid] > target:\n",
        "      end = mid -1\n",
        "    else:\n",
        "      start = mid + 1\n",
        "  return 0\n",
        "\n",
        "for i in range(0,C):\n",
        "  print(이분탐색(B,D[i],0,A-1))\n",
        "\n",
        "\n"
      ],
      "metadata": {
        "colab": {
          "base_uri": "https://localhost:8080/"
        },
        "id": "yjWS5DNSvXuq",
        "outputId": "e6db6874-4d95-45eb-b9ed-c9cb709dc052"
      },
      "execution_count": 9,
      "outputs": [
        {
          "output_type": "stream",
          "name": "stdout",
          "text": [
            "1\n",
            "1\n",
            "0\n",
            "0\n",
            "1\n"
          ]
        }
      ]
    },
    {
      "cell_type": "markdown",
      "source": [
        "#항상 의문이었던 점..."
      ],
      "metadata": {
        "id": "lz4XENu_ju-W"
      }
    },
    {
      "cell_type": "markdown",
      "source": [
        "왜 이분탐색(B,D[i],0,A-1)이렇게 변수를 설정하는 거지? 어찌어찌 풀기는 했는데."
      ],
      "metadata": {
        "id": "xmp60TgIjxbt"
      }
    },
    {
      "cell_type": "markdown",
      "source": [
        "#해결"
      ],
      "metadata": {
        "id": "XnVoZEdzj6H_"
      }
    },
    {
      "cell_type": "markdown",
      "source": [
        "우선 b를 SORT()해준다.\n",
        "\n",
        "왜? --> 이분탐색을 하기 위해서는 순서대로 정렬된 하나의 비교 리스트가 필요하다.\n",
        "\n",
        "왜 D,B[i]? -----> 일단 출력값이 D를 기준으로 나왔다.\n",
        "\n",
        "이때 기준 리스트를 B라고 두면 \n",
        "\n",
        "**1,2,3,4,5**에서 D를 넣어서 0이나 1이냐로 바로 출력이 된다.\n",
        "\n",
        "그래서 저런 변수 설정 방법으로 해야 한다."
      ],
      "metadata": {
        "id": "5Eb7ezTbj8oi"
      }
    },
    {
      "cell_type": "code",
      "source": [
        ""
      ],
      "metadata": {
        "id": "MOtGEIk5T5qN"
      },
      "execution_count": null,
      "outputs": []
    }
  ]
}