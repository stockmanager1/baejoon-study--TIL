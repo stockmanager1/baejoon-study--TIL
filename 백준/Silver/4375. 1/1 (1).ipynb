{
  "nbformat": 4,
  "nbformat_minor": 0,
  "metadata": {
    "colab": {
      "provenance": [],
      "collapsed_sections": []
    },
    "kernelspec": {
      "name": "python3",
      "display_name": "Python 3"
    },
    "language_info": {
      "name": "python"
    }
  },
  "cells": [
    {
      "cell_type": "markdown",
      "source": [
        "#문제 이해\n",
        "\n",
        "1로 이루어진 n의 배수를 구하라\n",
        "\n",
        "예를 들면 111 ---> 3을 나누면 37로 나누어 떨어진다."
      ],
      "metadata": {
        "id": "FRXNo0dSJrqO"
      }
    },
    {
      "cell_type": "markdown",
      "source": [
        "#1트 - while 무한루프를 사용해서 해결\n"
      ],
      "metadata": {
        "id": "Wi0wI1PeXTJ2"
      }
    },
    {
      "cell_type": "code",
      "source": [
        "n = int(input())\n",
        "\n",
        "i = 1\n",
        "while True:\n",
        "  if i < n:\n",
        "    pass\n",
        "  elif i % n != 0:\n",
        "    pass\n",
        "  elif i % n == 0:\n",
        "    break\n",
        "  i = str(i) + str(1)\n",
        "  i = int(i)\n",
        "a = str(i)\n",
        "print(a)\n",
        "a = list(a)\n",
        "print(type(a))\n"
      ],
      "metadata": {
        "colab": {
          "base_uri": "https://localhost:8080/",
          "height": 266
        },
        "id": "ivjkmUmVg5f_",
        "outputId": "d709f237-8f0c-4465-c2fa-f623db325317"
      },
      "execution_count": null,
      "outputs": [
        {
          "output_type": "stream",
          "name": "stdout",
          "text": [
            "3\n",
            "111\n"
          ]
        },
        {
          "output_type": "error",
          "ename": "TypeError",
          "evalue": "ignored",
          "traceback": [
            "\u001b[0;31m---------------------------------------------------------------------------\u001b[0m",
            "\u001b[0;31mTypeError\u001b[0m                                 Traceback (most recent call last)",
            "\u001b[0;32m<ipython-input-65-55f64c8c6687>\u001b[0m in \u001b[0;36m<module>\u001b[0;34m\u001b[0m\n\u001b[1;32m     13\u001b[0m \u001b[0ma\u001b[0m \u001b[0;34m=\u001b[0m \u001b[0mstr\u001b[0m\u001b[0;34m(\u001b[0m\u001b[0mi\u001b[0m\u001b[0;34m)\u001b[0m\u001b[0;34m\u001b[0m\u001b[0;34m\u001b[0m\u001b[0m\n\u001b[1;32m     14\u001b[0m \u001b[0mprint\u001b[0m\u001b[0;34m(\u001b[0m\u001b[0ma\u001b[0m\u001b[0;34m)\u001b[0m\u001b[0;34m\u001b[0m\u001b[0;34m\u001b[0m\u001b[0m\n\u001b[0;32m---> 15\u001b[0;31m \u001b[0ma\u001b[0m \u001b[0;34m=\u001b[0m \u001b[0mlist\u001b[0m\u001b[0;34m(\u001b[0m\u001b[0ma\u001b[0m\u001b[0;34m)\u001b[0m\u001b[0;34m\u001b[0m\u001b[0;34m\u001b[0m\u001b[0m\n\u001b[0m\u001b[1;32m     16\u001b[0m \u001b[0mprint\u001b[0m\u001b[0;34m(\u001b[0m\u001b[0mtype\u001b[0m\u001b[0;34m(\u001b[0m\u001b[0ma\u001b[0m\u001b[0;34m)\u001b[0m\u001b[0;34m)\u001b[0m\u001b[0;34m\u001b[0m\u001b[0;34m\u001b[0m\u001b[0m\n",
            "\u001b[0;31mTypeError\u001b[0m: 'list' object is not callable"
          ]
        }
      ]
    },
    {
      "cell_type": "code",
      "source": [
        "n = int(input())"
      ],
      "metadata": {
        "colab": {
          "base_uri": "https://localhost:8080/"
        },
        "id": "gGVrcZUkR889",
        "outputId": "f2a71bae-0a9c-482e-a862-19b46f959bb1"
      },
      "execution_count": null,
      "outputs": [
        {
          "name": "stdout",
          "output_type": "stream",
          "text": [
            "9901\n"
          ]
        }
      ]
    },
    {
      "cell_type": "code",
      "source": [
        "\n",
        "i = 1\n",
        "while True:\n",
        "  if i < n:\n",
        "    pass\n",
        "  elif i % n != 0:\n",
        "    pass\n",
        "  elif i % n == 0:\n",
        "    a = i\n",
        "    break\n",
        "  i = str(i) + str(1)\n",
        "  i = int(i)\n",
        "result = list(str(a))\n",
        "print(len(result))\n",
        "  "
      ],
      "metadata": {
        "colab": {
          "base_uri": "https://localhost:8080/",
          "height": 248
        },
        "id": "rWLjgTe7TshV",
        "outputId": "faccf82a-79b4-4b80-e03f-40bca043e0c1"
      },
      "execution_count": null,
      "outputs": [
        {
          "output_type": "error",
          "ename": "TypeError",
          "evalue": "ignored",
          "traceback": [
            "\u001b[0;31m---------------------------------------------------------------------------\u001b[0m",
            "\u001b[0;31mTypeError\u001b[0m                                 Traceback (most recent call last)",
            "\u001b[0;32m<ipython-input-56-5f6659d40d28>\u001b[0m in \u001b[0;36m<module>\u001b[0;34m\u001b[0m\n\u001b[1;32m     10\u001b[0m   \u001b[0mi\u001b[0m \u001b[0;34m=\u001b[0m \u001b[0mstr\u001b[0m\u001b[0;34m(\u001b[0m\u001b[0mi\u001b[0m\u001b[0;34m)\u001b[0m \u001b[0;34m+\u001b[0m \u001b[0mstr\u001b[0m\u001b[0;34m(\u001b[0m\u001b[0;36m1\u001b[0m\u001b[0;34m)\u001b[0m\u001b[0;34m\u001b[0m\u001b[0;34m\u001b[0m\u001b[0m\n\u001b[1;32m     11\u001b[0m   \u001b[0mi\u001b[0m \u001b[0;34m=\u001b[0m \u001b[0mint\u001b[0m\u001b[0;34m(\u001b[0m\u001b[0mi\u001b[0m\u001b[0;34m)\u001b[0m\u001b[0;34m\u001b[0m\u001b[0;34m\u001b[0m\u001b[0m\n\u001b[0;32m---> 12\u001b[0;31m \u001b[0mresult\u001b[0m \u001b[0;34m=\u001b[0m \u001b[0mlist\u001b[0m\u001b[0;34m(\u001b[0m\u001b[0mstr\u001b[0m\u001b[0;34m(\u001b[0m\u001b[0ma\u001b[0m\u001b[0;34m)\u001b[0m\u001b[0;34m)\u001b[0m\u001b[0;34m\u001b[0m\u001b[0;34m\u001b[0m\u001b[0m\n\u001b[0m\u001b[1;32m     13\u001b[0m \u001b[0mprint\u001b[0m\u001b[0;34m(\u001b[0m\u001b[0mlen\u001b[0m\u001b[0;34m(\u001b[0m\u001b[0mresult\u001b[0m\u001b[0;34m)\u001b[0m\u001b[0;34m)\u001b[0m\u001b[0;34m\u001b[0m\u001b[0;34m\u001b[0m\u001b[0m\n\u001b[1;32m     14\u001b[0m \u001b[0;34m\u001b[0m\u001b[0m\n",
            "\u001b[0;31mTypeError\u001b[0m: 'list' object is not callable"
          ]
        }
      ]
    },
    {
      "cell_type": "markdown",
      "source": [
        "틀림---- 아마 이걸 3 7 9901을 한번에 입력할때 답이 나오는 문제를 말하는거 같은데."
      ],
      "metadata": {
        "id": "RrUpgMssWtm4"
      }
    },
    {
      "cell_type": "markdown",
      "source": [
        "#2트 input을 while문 안에 집어 넣어라."
      ],
      "metadata": {
        "id": "b5N-QYj_XRiS"
      }
    },
    {
      "cell_type": "code",
      "source": [
        "list = []\n",
        "i = 1\n",
        "while 1:\n",
        "  try:\n",
        "    n = input()\n",
        "    if i < n:\n",
        "      pass\n",
        "    elif i % n != 0:\n",
        "      pass\n",
        "    elif i % n == 0:\n",
        "      a = i\n",
        "      break\n",
        "    i = str(i) + str(1)\n",
        "    i = int(i)\n",
        "    result = list(str(a))\n",
        "    print(len(result))\n",
        "  except:\n",
        "    break\n",
        "print(a)"
      ],
      "metadata": {
        "colab": {
          "base_uri": "https://localhost:8080/"
        },
        "id": "1lTMdjjdYBuV",
        "outputId": "49d3d0b3-ba02-4fa7-f813-38dc31e863c4"
      },
      "execution_count": null,
      "outputs": [
        {
          "output_type": "stream",
          "name": "stdout",
          "text": [
            "7\n",
            "111111111111\n"
          ]
        }
      ]
    },
    {
      "cell_type": "code",
      "source": [
        "B = []\n",
        "while 1:\n",
        "    try:\n",
        "      A = input()\n",
        "      B.append(A)\n",
        "    except:\n",
        "      break\n",
        "B = list(map(int,B))\n",
        "print(B)"
      ],
      "metadata": {
        "colab": {
          "base_uri": "https://localhost:8080/"
        },
        "id": "0_8ZZvy0YTuQ",
        "outputId": "7146ab31-2b95-4ca1-d71c-b88cc6c3274a"
      },
      "execution_count": null,
      "outputs": [
        {
          "output_type": "stream",
          "name": "stdout",
          "text": [
            "3\n",
            "7\n",
            "9901\n",
            "[3, 7, 9901]\n"
          ]
        }
      ]
    },
    {
      "cell_type": "code",
      "source": [
        "C = []\n",
        "for i in B:\n",
        "  j = 1\n",
        "  while True:\n",
        "    if j < i:\n",
        "      pass\n",
        "    elif j % i !=0:\n",
        "      pass\n",
        "    elif j % i == 0:\n",
        "      C.append(j) \n",
        "      break\n",
        "    j = str(j) + str(j)\n",
        "    j = int(j)\n",
        "print(C)"
      ],
      "metadata": {
        "colab": {
          "base_uri": "https://localhost:8080/",
          "height": 248
        },
        "id": "YGOiYEcVOXmH",
        "outputId": "4c06b990-bf86-4a60-857f-7bf69e41da06"
      },
      "execution_count": null,
      "outputs": [
        {
          "output_type": "error",
          "ename": "KeyboardInterrupt",
          "evalue": "ignored",
          "traceback": [
            "\u001b[0;31m---------------------------------------------------------------------------\u001b[0m",
            "\u001b[0;31mKeyboardInterrupt\u001b[0m                         Traceback (most recent call last)",
            "\u001b[0;32m<ipython-input-30-9195cf9809cb>\u001b[0m in \u001b[0;36m<module>\u001b[0;34m\u001b[0m\n\u001b[1;32m     10\u001b[0m       \u001b[0mC\u001b[0m\u001b[0;34m.\u001b[0m\u001b[0mappend\u001b[0m\u001b[0;34m(\u001b[0m\u001b[0mj\u001b[0m\u001b[0;34m)\u001b[0m\u001b[0;34m\u001b[0m\u001b[0;34m\u001b[0m\u001b[0m\n\u001b[1;32m     11\u001b[0m       \u001b[0;32mbreak\u001b[0m\u001b[0;34m\u001b[0m\u001b[0;34m\u001b[0m\u001b[0m\n\u001b[0;32m---> 12\u001b[0;31m     \u001b[0mj\u001b[0m \u001b[0;34m=\u001b[0m \u001b[0mstr\u001b[0m\u001b[0;34m(\u001b[0m\u001b[0mj\u001b[0m\u001b[0;34m)\u001b[0m \u001b[0;34m+\u001b[0m \u001b[0mstr\u001b[0m\u001b[0;34m(\u001b[0m\u001b[0mj\u001b[0m\u001b[0;34m)\u001b[0m\u001b[0;34m\u001b[0m\u001b[0;34m\u001b[0m\u001b[0m\n\u001b[0m\u001b[1;32m     13\u001b[0m     \u001b[0mj\u001b[0m \u001b[0;34m=\u001b[0m \u001b[0mint\u001b[0m\u001b[0;34m(\u001b[0m\u001b[0mj\u001b[0m\u001b[0;34m)\u001b[0m\u001b[0;34m\u001b[0m\u001b[0;34m\u001b[0m\u001b[0m\n\u001b[1;32m     14\u001b[0m \u001b[0mprint\u001b[0m\u001b[0;34m(\u001b[0m\u001b[0mC\u001b[0m\u001b[0;34m)\u001b[0m\u001b[0;34m\u001b[0m\u001b[0;34m\u001b[0m\u001b[0m\n",
            "\u001b[0;31mKeyboardInterrupt\u001b[0m: "
          ]
        }
      ]
    },
    {
      "cell_type": "code",
      "source": [
        "\n",
        "n = int(input())\n",
        "\n",
        "a = 0\n",
        "i = 1\n",
        "while True:\n",
        "  if i < n:\n",
        "    pass\n",
        "  elif i % n != 0:\n",
        "    pass\n",
        "  elif i % n == 0:\n",
        "    a = i\n",
        "    break\n",
        "  i = str(i) + str(1)\n",
        "  i = int(i)\n",
        "result = list(str(a))\n",
        "print(len(result))"
      ],
      "metadata": {
        "id": "bpOylHSJfR6M",
        "colab": {
          "base_uri": "https://localhost:8080/"
        },
        "outputId": "c7fd2e8f-4d3e-4d53-c72c-be1abb74febf"
      },
      "execution_count": null,
      "outputs": [
        {
          "output_type": "stream",
          "name": "stdout",
          "text": [
            "7\n",
            "6\n"
          ]
        }
      ]
    },
    {
      "cell_type": "code",
      "source": [
        "B = []\n",
        "\n",
        "while True:\n",
        "  try:\n",
        "    A = int(input())\n",
        "  except:\n",
        "    break\n",
        "    if i < A:\n",
        "      pass\n",
        "    elif i % A != 0:\n",
        "      pass\n",
        "    elif i % n == 0:\n",
        "      a = i\n",
        "      break\n",
        "    i = str(i) + str(1)\n",
        "    i = int(i)\n",
        "    B.append(i)\n",
        "print(B)\n"
      ],
      "metadata": {
        "colab": {
          "base_uri": "https://localhost:8080/"
        },
        "id": "Idv7F6F7LdfI",
        "outputId": "f60756a4-01e4-43ac-8289-54f19b3f5cec"
      },
      "execution_count": null,
      "outputs": [
        {
          "output_type": "stream",
          "name": "stdout",
          "text": [
            "3\n",
            "7\n",
            "9901\n",
            "\n",
            "[]\n"
          ]
        }
      ]
    },
    {
      "cell_type": "code",
      "source": [
        "print(\"1\" * 3)"
      ],
      "metadata": {
        "id": "PhmcQOevLrqe",
        "colab": {
          "base_uri": "https://localhost:8080/"
        },
        "outputId": "28e7eea2-22d6-4136-83ab-7cdfe535bd15"
      },
      "execution_count": 1,
      "outputs": [
        {
          "output_type": "stream",
          "name": "stdout",
          "text": [
            "111\n"
          ]
        }
      ]
    },
    {
      "cell_type": "markdown",
      "source": [
        "#3트 구글링\n",
        " "
      ],
      "metadata": {
        "id": "p__3aLrZH-xl"
      }
    },
    {
      "cell_type": "markdown",
      "source": [
        "##1번 방법"
      ],
      "metadata": {
        "id": "WWhKl9vkIC5_"
      }
    },
    {
      "cell_type": "markdown",
      "source": [
        "자문 자답 합니다 sys.stdin.readline은 EOF에러일 떄 공백을 반환한다고 합니다.\n",
        "\n",
        "따라서 try, except문을 쓸때 except에 eof에러에 대해 넣어 주어야 한다."
      ],
      "metadata": {
        "id": "eE8JcE5wJUtw"
      }
    },
    {
      "cell_type": "code",
      "source": [
        "import sys\n",
        "input = sys.stdin.readline\n",
        "while(1):\n",
        "    try:\n",
        "        a = int(input().rstrip())    \n",
        "    except KeyboardInterrupt:\n",
        "        break\n",
        "    num = 1\n",
        "    while(1):\n",
        "        if(num % a == 0):\n",
        "            print(len(str(num)))\n",
        "            break\n",
        "        num = num*10 + 1"
      ],
      "metadata": {
        "id": "LmmrqEeqKv56"
      },
      "execution_count": null,
      "outputs": []
    },
    {
      "cell_type": "markdown",
      "source": [
        "내가 못풀었던 이유:\n",
        "\n",
        "1. i를 더해주는 걸 너무 복잡하게 코드를 짬. 즉 이걸로 시간 복잡도가 올라버림  - 진짜 그냥 \"i\" * 3만 해도 iii나오는데\n",
        "\n",
        "2. 너무 많은 if문을 난발함.if문 하나만 써도 적당한데 너무 남발함"
      ],
      "metadata": {
        "id": "JEl4gEXJK2R9"
      }
    },
    {
      "cell_type": "code",
      "source": [],
      "metadata": {
        "id": "8PqyEZPVMn_j"
      },
      "execution_count": null,
      "outputs": []
    }
  ]
}