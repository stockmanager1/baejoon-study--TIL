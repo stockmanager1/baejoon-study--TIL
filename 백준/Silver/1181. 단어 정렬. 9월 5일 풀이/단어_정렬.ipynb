{
  "nbformat": 4,
  "nbformat_minor": 0,
  "metadata": {
    "colab": {
      "name": "단어 정렬.ipynb",
      "provenance": [],
      "collapsed_sections": [
        "W1AsTVoUi1xK",
        "YMocNH6779e9"
      ]
    },
    "kernelspec": {
      "name": "python3",
      "display_name": "Python 3"
    },
    "language_info": {
      "name": "python"
    }
  },
  "cells": [
    {
      "cell_type": "markdown",
      "source": [
        "#구상 1트\n",
        "1. input \n",
        "2. 이걸 길이 순서로 나열하기\n",
        "\n",
        "  파이썬 2차원 리스트를 이용해서 만들어야 할듯?\n",
        "\n",
        "  예를 들면[[b,u,t],[i],[w,o,n,t]]형태로 만들고 각 리스트의 갯수를 비교해서 하면 되는게 아닐까?\n",
        "\n",
        "3. 길이가 같은 것들에 대해 사전순으로( sorted() 함수를 사용하여 문자열을 알파벳순으로 정렬할 수 있습니다)\n",
        "4. 같은 단어는 빼기"
      ],
      "metadata": {
        "id": "W1AsTVoUi1xK"
      }
    },
    {
      "cell_type": "markdown",
      "source": [
        "##1. input해보자"
      ],
      "metadata": {
        "id": "p7qsFFOCA-Xl"
      }
    },
    {
      "cell_type": "code",
      "execution_count": 1,
      "metadata": {
        "colab": {
          "base_uri": "https://localhost:8080/"
        },
        "id": "29Gg2iIh_4rU",
        "outputId": "c7676fcb-770b-4c2e-b478-da47ea131941"
      },
      "outputs": [
        {
          "output_type": "stream",
          "name": "stdout",
          "text": [
            "8\n",
            "but\n",
            "i\n",
            "wont\n",
            "hesitate\n",
            "no\n",
            "more\n",
            "no\n",
            "more\n",
            "['but', 'i', 'wont', 'hesitate', 'no', 'more', 'no', 'more']\n"
          ]
        }
      ],
      "source": [
        "n = int(input())\n",
        "A = []\n",
        "for i in range(0,n):\n",
        "  K = input()\n",
        "  A.append(K)\n",
        "print(A)\n",
        "\n"
      ]
    },
    {
      "cell_type": "markdown",
      "source": [
        "##2. 이걸 길이 순서로 나열하기(파이썬 2차원 리스트를 이용) -1트"
      ],
      "metadata": {
        "id": "TsDyMcLkC9q_"
      }
    },
    {
      "cell_type": "code",
      "source": [
        "'''\n",
        "C = []\n",
        "for i in A:\n",
        "  B = i\n",
        "  B = list(B)\n",
        "  for j in B:\n",
        "    C.apped(j)\n",
        "print(C)\n",
        "'''\n",
        "#AttributeError: 'list' object has no attribute 'apped'"
      ],
      "metadata": {
        "colab": {
          "base_uri": "https://localhost:8080/",
          "height": 230
        },
        "id": "srTf-xk3kaD9",
        "outputId": "f8fce933-7c9a-49c9-90b6-93a39c0471aa"
      },
      "execution_count": null,
      "outputs": [
        {
          "output_type": "error",
          "ename": "AttributeError",
          "evalue": "ignored",
          "traceback": [
            "\u001b[0;31m---------------------------------------------------------------------------\u001b[0m",
            "\u001b[0;31mAttributeError\u001b[0m                            Traceback (most recent call last)",
            "\u001b[0;32m<ipython-input-7-7c8cbe6e0cee>\u001b[0m in \u001b[0;36m<module>\u001b[0;34m\u001b[0m\n\u001b[1;32m      4\u001b[0m   \u001b[0mB\u001b[0m \u001b[0;34m=\u001b[0m \u001b[0mlist\u001b[0m\u001b[0;34m(\u001b[0m\u001b[0mB\u001b[0m\u001b[0;34m)\u001b[0m\u001b[0;34m\u001b[0m\u001b[0;34m\u001b[0m\u001b[0m\n\u001b[1;32m      5\u001b[0m   \u001b[0;32mfor\u001b[0m \u001b[0mj\u001b[0m \u001b[0;32min\u001b[0m \u001b[0mB\u001b[0m\u001b[0;34m:\u001b[0m\u001b[0;34m\u001b[0m\u001b[0;34m\u001b[0m\u001b[0m\n\u001b[0;32m----> 6\u001b[0;31m     \u001b[0mC\u001b[0m\u001b[0;34m.\u001b[0m\u001b[0mapped\u001b[0m\u001b[0;34m(\u001b[0m\u001b[0mj\u001b[0m\u001b[0;34m)\u001b[0m\u001b[0;34m\u001b[0m\u001b[0;34m\u001b[0m\u001b[0m\n\u001b[0m\u001b[1;32m      7\u001b[0m \u001b[0mprint\u001b[0m\u001b[0;34m(\u001b[0m\u001b[0mC\u001b[0m\u001b[0;34m)\u001b[0m\u001b[0;34m\u001b[0m\u001b[0;34m\u001b[0m\u001b[0m\n",
            "\u001b[0;31mAttributeError\u001b[0m: 'list' object has no attribute 'apped'"
          ]
        }
      ]
    },
    {
      "cell_type": "markdown",
      "source": [
        "##2. 이걸 길이 순서로 나열하기(파이썬 2차원 리스트를 이용) -2트 구글링으로 예제 찾기\n",
        "\n",
        "[[b,u,t],[i],[w,o,n,t]]"
      ],
      "metadata": {
        "id": "yV5cIrddnDqg"
      }
    },
    {
      "cell_type": "code",
      "source": [
        "a = []\n",
        "\n",
        "for i in range(3):\n",
        "  line = []\n",
        "  for j in range(2):\n",
        "    line.append(0)\n",
        "  a.append(line)"
      ],
      "metadata": {
        "id": "Dedua-EDl35O"
      },
      "execution_count": null,
      "outputs": []
    },
    {
      "cell_type": "code",
      "source": [
        "a = []    # 빈 리스트 생성\n",
        "\n",
        "for i in range(3):\n",
        "    line = []              # 안쪽 리스트로 사용할 빈 리스트 생성\n",
        "    for j in range(2):\n",
        "        line.append(0)     # 안쪽 리스트에 0 추가\n",
        "    a.append(line)         # 전체 리스트에 안쪽 리스트를 추가\n",
        "\n",
        "print(a)"
      ],
      "metadata": {
        "colab": {
          "base_uri": "https://localhost:8080/"
        },
        "id": "ZPT0EiKzlY98",
        "outputId": "61bceafd-1a2c-43b7-e9f1-6091e3e42021"
      },
      "execution_count": null,
      "outputs": [
        {
          "output_type": "stream",
          "name": "stdout",
          "text": [
            "[[0, 0], [0, 0], [0, 0]]\n"
          ]
        }
      ]
    },
    {
      "cell_type": "code",
      "source": [
        "B = []\n",
        "for i in A:\n",
        "  i = list(i)\n",
        "  B.append(i) \n"
      ],
      "metadata": {
        "id": "Gsm6W3EtzgGw"
      },
      "execution_count": 2,
      "outputs": []
    },
    {
      "cell_type": "markdown",
      "source": [
        "##3. 이제 각 원소의 갯수에 따라 정렬- 1트"
      ],
      "metadata": {
        "id": "Vo-mCUIW0OKs"
      }
    },
    {
      "cell_type": "code",
      "source": [
        "print(B)"
      ],
      "metadata": {
        "colab": {
          "base_uri": "https://localhost:8080/"
        },
        "id": "bdhUDC1Kzya6",
        "outputId": "21a162ec-210a-4715-a919-eebc363a54c7"
      },
      "execution_count": 3,
      "outputs": [
        {
          "output_type": "stream",
          "name": "stdout",
          "text": [
            "[['b', 'u', 't'], ['i'], ['w', 'o', 'n', 't'], ['h', 'e', 's', 'i', 't', 'a', 't', 'e'], ['n', 'o'], ['m', 'o', 'r', 'e'], ['n', 'o'], ['m', 'o', 'r', 'e']]\n"
          ]
        }
      ]
    },
    {
      "cell_type": "code",
      "source": [
        "C = []\n",
        "for i in range(0,len(B)):\n",
        "  C.append(len(B[i]))\n",
        "  C.sort()\n",
        "print(B)\n",
        "print(C)"
      ],
      "metadata": {
        "colab": {
          "base_uri": "https://localhost:8080/"
        },
        "id": "3osUvAao19VV",
        "outputId": "8dc35a3f-8425-4980-b791-036206cf597d"
      },
      "execution_count": 4,
      "outputs": [
        {
          "output_type": "stream",
          "name": "stdout",
          "text": [
            "[['b', 'u', 't'], ['i'], ['w', 'o', 'n', 't'], ['h', 'e', 's', 'i', 't', 'a', 't', 'e'], ['n', 'o'], ['m', 'o', 'r', 'e'], ['n', 'o'], ['m', 'o', 'r', 'e']]\n",
            "[1, 2, 2, 3, 4, 4, 4, 8]\n"
          ]
        }
      ]
    },
    {
      "cell_type": "code",
      "source": [
        "D = []\n",
        "for i in C:\n",
        "  for j in B:\n",
        "    if len(j) == i:\n",
        "      D.append(j)\n",
        "      break\n",
        "print(D)\n",
        "#[['h', 'e', 's', 'i', 't', 'a', 't', 'e'], ['w', 'o', 'n', 't'], ['m', 'o', 'r', 'e'], ['w', 'o', 'n', 't'], ['m', 'o', 'r', 'e'], ['b', 'u', 't'], ['n', 'o'], ['i']]\n",
        "#출력이 왜 이렇게 나오는거지?\n",
        "#break문을 추가해도 \n",
        "#[['h', 'e', 's', 'i', 't', 'a', 't', 'e'], ['w', 'o', 'n', 't'], ['w', 'o', 'n', 't'], ['b', 'u', 't'], ['n', 'o'], ['i']]"
      ],
      "metadata": {
        "colab": {
          "base_uri": "https://localhost:8080/"
        },
        "id": "l6_VINel2ovy",
        "outputId": "2a6463ad-0feb-4fdc-d43d-73e78ae1fab5"
      },
      "execution_count": 5,
      "outputs": [
        {
          "output_type": "stream",
          "name": "stdout",
          "text": [
            "[['i'], ['n', 'o'], ['n', 'o'], ['b', 'u', 't'], ['w', 'o', 'n', 't'], ['w', 'o', 'n', 't'], ['w', 'o', 'n', 't'], ['h', 'e', 's', 'i', 't', 'a', 't', 'e']]\n"
          ]
        }
      ]
    },
    {
      "cell_type": "markdown",
      "source": [
        "##3. 이제 각 원소의 갯수에 따라 정렬- 2트 다시 반복문 써서 뺴주기"
      ],
      "metadata": {
        "id": "flOSSyi_656O"
      }
    },
    {
      "cell_type": "code",
      "source": [
        "C = []\n",
        "for i in range(0,len(B)):\n",
        "  C.append(len(B[i]))\n",
        "  C.sort()\n",
        "D = []\n",
        "for i in C:\n",
        "  for j in B:\n",
        "    if len(j) == i:\n",
        "      D.append(j)\n",
        "      break\n",
        "E = []\n",
        "\n",
        "for i in D:\n",
        "  if i not in E:\n",
        "    E.append(i)\n",
        "print(E)"
      ],
      "metadata": {
        "colab": {
          "base_uri": "https://localhost:8080/"
        },
        "id": "pTMIUEJj5b2C",
        "outputId": "4e6e9f24-7a51-4cef-f040-39d471dcd5d7"
      },
      "execution_count": 6,
      "outputs": [
        {
          "output_type": "stream",
          "name": "stdout",
          "text": [
            "[['i'], ['n', 'o'], ['b', 'u', 't'], ['w', 'o', 'n', 't'], ['h', 'e', 's', 'i', 't', 'a', 't', 'e']]\n"
          ]
        }
      ]
    },
    {
      "cell_type": "markdown",
      "source": [
        "##3.이제 각 원소의 갯수에 따라 정렬- 3트 다시 반복문 써서 뺴주기\n",
        "\n",
        "D를 왜 쓴거지..."
      ],
      "metadata": {
        "id": "YRKBsu07MTSA"
      }
    },
    {
      "cell_type": "code",
      "source": [
        "n = int(input())\n",
        "A = []\n",
        "for i in range(0,n):\n",
        "  K = input()\n",
        "  A.append(K)\n",
        "print(A)\n",
        "\n",
        "B = []\n",
        "for i in A:\n",
        "  i = list(i)\n",
        "  B.append(i) \n",
        "print(B) \n",
        "C = []\n",
        "for i in range(0,len(B)):\n",
        "  C.append(len(B[i]))\n",
        "  C.sort()\n",
        "print(C)\n",
        "D = []\n",
        "for i in C:\n",
        "  for j in B:\n",
        "    if len(j) == i:\n",
        "      D.append(j)\n",
        "      break\n",
        "print(D)\n",
        "E = []\n",
        "\n",
        "for i in D:\n",
        "  if i not in E:\n",
        "    E.append(i)\n",
        "print(E)"
      ],
      "metadata": {
        "colab": {
          "base_uri": "https://localhost:8080/"
        },
        "id": "mvFxcA3IH7t8",
        "outputId": "14844e11-9054-4b68-c0b1-0792c909dd96"
      },
      "execution_count": null,
      "outputs": [
        {
          "output_type": "stream",
          "name": "stdout",
          "text": [
            "13\n",
            "but\n",
            "i\n",
            "wont\n",
            "hesitate\n",
            "no\n",
            "more\n",
            "no\n",
            "more\n",
            "it\n",
            "cannot\n",
            "wait\n",
            "im\n",
            "yours\n",
            "['but', 'i', 'wont', 'hesitate', 'no', 'more', 'no', 'more', 'it', 'cannot', 'wait', 'im', 'yours']\n",
            "[['b', 'u', 't'], ['i'], ['w', 'o', 'n', 't'], ['h', 'e', 's', 'i', 't', 'a', 't', 'e'], ['n', 'o'], ['m', 'o', 'r', 'e'], ['n', 'o'], ['m', 'o', 'r', 'e'], ['i', 't'], ['c', 'a', 'n', 'n', 'o', 't'], ['w', 'a', 'i', 't'], ['i', 'm'], ['y', 'o', 'u', 'r', 's']]\n",
            "[1, 2, 2, 2, 2, 3, 4, 4, 4, 4, 5, 6, 8]\n",
            "[['i'], ['n', 'o'], ['n', 'o'], ['n', 'o'], ['n', 'o'], ['b', 'u', 't'], ['w', 'o', 'n', 't'], ['w', 'o', 'n', 't'], ['w', 'o', 'n', 't'], ['w', 'o', 'n', 't'], ['y', 'o', 'u', 'r', 's'], ['c', 'a', 'n', 'n', 'o', 't'], ['h', 'e', 's', 'i', 't', 'a', 't', 'e']]\n",
            "[['i'], ['n', 'o'], ['b', 'u', 't'], ['w', 'o', 'n', 't'], ['y', 'o', 'u', 'r', 's'], ['c', 'a', 'n', 'n', 'o', 't'], ['h', 'e', 's', 'i', 't', 'a', 't', 'e']]\n"
          ]
        }
      ]
    },
    {
      "cell_type": "markdown",
      "source": [
        "처음부터 중복을 제거하고 시작한다면 어떨까?"
      ],
      "metadata": {
        "id": "F9rZHPiq7pAr"
      }
    },
    {
      "cell_type": "code",
      "source": [],
      "metadata": {
        "id": "oEpq3K9cLqwC"
      },
      "execution_count": null,
      "outputs": []
    },
    {
      "cell_type": "markdown",
      "source": [
        "#구상 1의 문제점\n",
        "처음부터 중복을 제거하고 시작한다면 어떨까?\n",
        "\n",
        "그리고 3번쨰 구현 과정이 잘못되어서 소실된 부분이 생긴다."
      ],
      "metadata": {
        "id": "O_T8oP4t-jh7"
      }
    },
    {
      "cell_type": "markdown",
      "source": [
        "#구상2트\n",
        "1. input +  같은 단어는 빼기\n",
        "2. 이걸 길이 순서로 나열하기\n",
        "\n",
        "  파이썬 2차원 리스트를 이용해서 만들어야 할듯?\n",
        "\n",
        "  예를 들면[[b,u,t],[i],[w,o,n,t]]형태로 만들고 각 리스트의 갯수를 비교해서 하면 되는게 아닐까?\n",
        "\n",
        "3. 길이가 같은 것들에 대해 사전순으로 sorted() 함수를 사용하여 문자열을 알파벳순으로 정렬할 수 있습니다)"
      ],
      "metadata": {
        "id": "YMocNH6779e9"
      }
    },
    {
      "cell_type": "markdown",
      "source": [
        "##1. input + 같은 단어는 빼기"
      ],
      "metadata": {
        "id": "HNiR0-Bm8e7S"
      }
    },
    {
      "cell_type": "code",
      "source": [
        "n = int(input())\n",
        "A = []\n",
        "for i in range(0,n):\n",
        "  K = input()\n",
        "  A.append(K)\n",
        "print(A)\n"
      ],
      "metadata": {
        "colab": {
          "base_uri": "https://localhost:8080/"
        },
        "id": "5K6bFNmu7-_W",
        "outputId": "da8d7394-7c37-4e2a-b68f-33e205278682"
      },
      "execution_count": 19,
      "outputs": [
        {
          "output_type": "stream",
          "name": "stdout",
          "text": [
            "13\n",
            "but\n",
            "i\n",
            "wont\n",
            "hesitate\n",
            "no\n",
            "more\n",
            "no\n",
            "more\n",
            "it\n",
            "cannot\n",
            "wait\n",
            "im\n",
            "yours\n",
            "['but', 'i', 'wont', 'hesitate', 'no', 'more', 'no', 'more', 'it', 'cannot', 'wait', 'im', 'yours']\n"
          ]
        }
      ]
    },
    {
      "cell_type": "code",
      "source": [
        "B = []\n",
        "for i in A:\n",
        "  if i not in B:\n",
        "    B.append(i)\n",
        "print(B)\n"
      ],
      "metadata": {
        "colab": {
          "base_uri": "https://localhost:8080/"
        },
        "id": "x_9oPv5X8kQQ",
        "outputId": "232ad4fe-c5b7-4e6f-91c8-5d3477ad97ff"
      },
      "execution_count": 20,
      "outputs": [
        {
          "output_type": "stream",
          "name": "stdout",
          "text": [
            "['but', 'i', 'wont', 'hesitate', 'no', 'more', 'it', 'cannot', 'wait', 'im', 'yours']\n"
          ]
        }
      ]
    },
    {
      "cell_type": "markdown",
      "source": [
        "##2. 이걸 길이 순서로 나열하기(파이썬 2차원 리스트를 이용) -1트\n",
        "[[b,u,t],[i],[w,o,n,t]]"
      ],
      "metadata": {
        "id": "Fchpo0TO9O8T"
      }
    },
    {
      "cell_type": "code",
      "source": [
        "C = []\n",
        "for i in B:\n",
        "  i = list(i)\n",
        "  C.append(i)\n",
        "print(C) "
      ],
      "metadata": {
        "colab": {
          "base_uri": "https://localhost:8080/"
        },
        "id": "o9NvevhQ8zdz",
        "outputId": "fe6a659b-1ef9-4fc1-f0b4-741d189a8e03"
      },
      "execution_count": 21,
      "outputs": [
        {
          "output_type": "stream",
          "name": "stdout",
          "text": [
            "[['b', 'u', 't'], ['i'], ['w', 'o', 'n', 't'], ['h', 'e', 's', 'i', 't', 'a', 't', 'e'], ['n', 'o'], ['m', 'o', 'r', 'e'], ['i', 't'], ['c', 'a', 'n', 'n', 'o', 't'], ['w', 'a', 'i', 't'], ['i', 'm'], ['y', 'o', 'u', 'r', 's']]\n"
          ]
        }
      ]
    },
    {
      "cell_type": "code",
      "source": [
        "D = []\n",
        "for i in range(0,len(C)):\n",
        "  D.append(len(C[i]))\n",
        "  D.sort()\n",
        "print(C)\n",
        "print(D)\n",
        "print(len(D))"
      ],
      "metadata": {
        "colab": {
          "base_uri": "https://localhost:8080/"
        },
        "id": "91e0NHDM9hri",
        "outputId": "73019534-a130-48e1-814d-d45bf35f828a"
      },
      "execution_count": 28,
      "outputs": [
        {
          "output_type": "stream",
          "name": "stdout",
          "text": [
            "[['b', 'u', 't'], ['c', 'a', 'n', 'n', 'o', 't'], ['h', 'e', 's', 'i', 't', 'a', 't', 'e'], ['i'], ['i', 'm'], ['i', 't'], ['m', 'o', 'r', 'e'], ['n', 'o'], ['w', 'a', 'i', 't'], ['w', 'o', 'n', 't'], ['y', 'o', 'u', 'r', 's']]\n",
            "[1, 2, 2, 2, 3, 4, 4, 4, 5, 6, 8]\n",
            "11\n"
          ]
        }
      ]
    },
    {
      "cell_type": "markdown",
      "source": [
        "##3. 글자로 바꾸기"
      ],
      "metadata": {
        "id": "R5IncXJnBsd8"
      }
    },
    {
      "cell_type": "code",
      "source": [
        "E = []\n",
        "for i in D:\n",
        "  for j in C:\n",
        "    if j not in E and i == len(j):\n",
        "      E.append(j)\n",
        "print(E)"
      ],
      "metadata": {
        "colab": {
          "base_uri": "https://localhost:8080/"
        },
        "id": "Kkgf-bN5AYOD",
        "outputId": "ed59d4cc-49eb-461f-d36f-7c8a691dc365"
      },
      "execution_count": 55,
      "outputs": [
        {
          "output_type": "stream",
          "name": "stdout",
          "text": [
            "[['i'], ['i', 'm'], ['i', 't'], ['n', 'o'], ['b', 'u', 't'], ['m', 'o', 'r', 'e'], ['w', 'a', 'i', 't'], ['w', 'o', 'n', 't'], ['y', 'o', 'u', 'r', 's'], ['c', 'a', 'n', 'n', 'o', 't'], ['h', 'e', 's', 'i', 't', 'a', 't', 'e']]\n"
          ]
        }
      ]
    },
    {
      "cell_type": "markdown",
      "source": [
        "##4. 2차원 리스트를 서로 붙이기"
      ],
      "metadata": {
        "id": "ko6-R0YkFgkC"
      }
    },
    {
      "cell_type": "code",
      "source": [
        "print(E)"
      ],
      "metadata": {
        "colab": {
          "base_uri": "https://localhost:8080/"
        },
        "id": "I73oHJ0fFACd",
        "outputId": "4a501e7a-5477-416c-f50b-e2826586bdbc"
      },
      "execution_count": 56,
      "outputs": [
        {
          "output_type": "stream",
          "name": "stdout",
          "text": [
            "[['i'], ['i', 'm'], ['i', 't'], ['n', 'o'], ['b', 'u', 't'], ['m', 'o', 'r', 'e'], ['w', 'a', 'i', 't'], ['w', 'o', 'n', 't'], ['y', 'o', 'u', 'r', 's'], ['c', 'a', 'n', 'n', 'o', 't'], ['h', 'e', 's', 'i', 't', 'a', 't', 'e']]\n"
          ]
        }
      ]
    },
    {
      "cell_type": "code",
      "source": [
        "F = []\n",
        "for i in E:\n",
        "  F.append(' '.join(i).replace(' ' ,''))\n",
        "for i in F:\n",
        "  print(i)"
      ],
      "metadata": {
        "colab": {
          "base_uri": "https://localhost:8080/"
        },
        "id": "2ZxlcVspHROl",
        "outputId": "82589080-2536-445f-ea6f-35f92ee546be"
      },
      "execution_count": 59,
      "outputs": [
        {
          "output_type": "stream",
          "name": "stdout",
          "text": [
            "['i', 'im', 'it', 'no', 'but', 'more', 'wait', 'wont', 'yours', 'cannot', 'hesitate']\n",
            "i\n",
            "im\n",
            "it\n",
            "no\n",
            "but\n",
            "more\n",
            "wait\n",
            "wont\n",
            "yours\n",
            "cannot\n",
            "hesitate\n"
          ]
        }
      ]
    },
    {
      "cell_type": "markdown",
      "source": [
        "##정리"
      ],
      "metadata": {
        "id": "ZYtXDxGlHv3O"
      }
    },
    {
      "cell_type": "code",
      "source": [
        "import sys\n",
        "\n",
        "n = int(sys.stdin.readline())\n",
        "A = []\n",
        "for i in range(0,n):\n",
        "  A.append(sys.stdin.readline())\n",
        "B = []\n",
        "for i in A:\n",
        "  if i not in B:\n",
        "    B.append(i)\n",
        "\n",
        "C = []\n",
        "for i in B:\n",
        "  i = list(i)\n",
        "  C.append(i)\n",
        "\n",
        "\n",
        "D = []\n",
        "for i in range(0,len(C)):\n",
        "  D.append(len(C[i]))\n",
        "  D.sort()\n",
        "\n",
        "E = []\n",
        "for i in D:\n",
        "  for j in C:\n",
        "    if j not in E and i == len(j):\n",
        "      E.append(j)\n",
        "\n",
        "F = []\n",
        "for i in E:\n",
        "  F.append(' '.join(i).replace(' ' ,''))\n",
        "for i in F:\n",
        "  print(i)"
      ],
      "metadata": {
        "colab": {
          "base_uri": "https://localhost:8080/"
        },
        "id": "z3wVwC7IGSay",
        "outputId": "7d9bc59b-44c3-42f8-a688-8053aa023c44"
      },
      "execution_count": 60,
      "outputs": [
        {
          "output_type": "stream",
          "name": "stdout",
          "text": [
            "13\n",
            "but\n",
            "i\n",
            "wont\n",
            "hesitate\n",
            "no\n",
            "more\n",
            "no\n",
            "more\n",
            "it\n",
            "cannot\n",
            "wait\n",
            "im\n",
            "yours\n",
            "i\n",
            "no\n",
            "it\n",
            "im\n",
            "but\n",
            "wont\n",
            "more\n",
            "wait\n",
            "yours\n",
            "cannot\n",
            "hesitate\n"
          ]
        }
      ]
    },
    {
      "cell_type": "markdown",
      "source": [
        "시간 초과?"
      ],
      "metadata": {
        "id": "9JPcoKxVIW89"
      }
    },
    {
      "cell_type": "code",
      "source": [],
      "metadata": {
        "id": "qR2NGUJHIX4i"
      },
      "execution_count": null,
      "outputs": []
    },
    {
      "cell_type": "markdown",
      "source": [
        "#구상 2의 문제점\n",
        "\n",
        "```\n",
        "import sys\n",
        "\n",
        "n = int(sys.stdin.readline())\n",
        "A = []\n",
        "for i in range(0,n):\n",
        "  A.append(sys.stdin.readline())\n",
        "B = []\n",
        "for i in A:\n",
        "  if i not in B:\n",
        "    B.append(i)\n",
        "\n",
        "C = []\n",
        "for i in B:\n",
        "  i = list(i)\n",
        "  C.append(i)\n",
        "\n",
        "\n",
        "D = []\n",
        "for i in range(0,len(C)):\n",
        "  D.append(len(C[i]))\n",
        "  D.sort()\n",
        "\n",
        "E = []\n",
        "for i in D:\n",
        "  for j in C:\n",
        "    if j not in E and i == len(j):\n",
        "      E.append(j)\n",
        "\n",
        "F = []\n",
        "for i in E:\n",
        "  F.append(' '.join(i).replace(' ' ,''))\n",
        "for i in F:\n",
        "  print(i)\n",
        "```\n",
        "\n",
        "------> 런타임 에러"
      ],
      "metadata": {
        "id": "9_Uq6iDNKxkr"
      }
    },
    {
      "cell_type": "markdown",
      "source": [
        "#구상 3\n",
        "구글링"
      ],
      "metadata": {
        "id": "-yR3C9JuLZtW"
      }
    },
    {
      "cell_type": "code",
      "source": [
        "n = int(input())\n",
        "\n",
        "word = []\n",
        "for i in range(n):\n",
        "  word.append(input())\n",
        "\n",
        "#set함수로 중복 제거\n",
        "set_word = list(set(word))\n",
        "\n",
        "\n",
        "sort_word = []\n",
        "for i in set_word:\n",
        "#처음보는 방법\n",
        "    sort_word.append((len(i),i))\n",
        "print(sort_word)\n",
        "result = sorted(sort_word)\n",
        "print(result)\n",
        "\n",
        "for len_word,word in result:\n",
        "  print(word)"
      ],
      "metadata": {
        "colab": {
          "base_uri": "https://localhost:8080/"
        },
        "id": "JaMSVC_3K59C",
        "outputId": "1a0a70db-0c9c-46ba-8f7e-f609eb835d6c"
      },
      "execution_count": 83,
      "outputs": [
        {
          "output_type": "stream",
          "name": "stdout",
          "text": [
            "3\n",
            "but\n",
            "i\n",
            "wont\n",
            "[(3, 'but'), (4, 'wont'), (1, 'i')]\n",
            "[(1, 'i'), (3, 'but'), (4, 'wont')]\n",
            "i\n",
            "but\n",
            "wont\n"
          ]
        }
      ]
    },
    {
      "cell_type": "markdown",
      "source": [
        "+ 여기는 set을 사용해서 해결\n",
        "\n",
        "+ append함수를 이상하게 씀--> 단어의 길이와 리스트의 요소를 같이 출력하기 위해서.\n",
        "\n",
        "+ for문에 변수가 2개인 반복문이 들어김\n",
        "\n",
        "+ 더 간결하게 input문을 사용"
      ],
      "metadata": {
        "id": "X0alG24OMYD5"
      }
    },
    {
      "cell_type": "markdown",
      "source": [
        "#문제점\n",
        "내가 set함수에 대해 잘 모르고 익숙하지가 않다.\n",
        "\n",
        "따라서 틀림.\n",
        "\n",
        "나는 2차원 리스트로 어찌 비벼보려고 했는데 처음부터 발상이 틀렸다.\n",
        "\n",
        "이렇게 append((len(i),i))로 문제를 해결하는 걸 처음 해봄.\n",
        "\n",
        "항상 단어만 나오면 split해서 어찌 하려고 했는데 이런 방법도 시도해보자."
      ],
      "metadata": {
        "id": "b9jqv2TeN4k8"
      }
    },
    {
      "cell_type": "markdown",
      "source": [
        "#set함수"
      ],
      "metadata": {
        "id": "mVRKwJ_BTjvw"
      }
    },
    {
      "cell_type": "markdown",
      "source": [
        "##set함수 선언 방법"
      ],
      "metadata": {
        "id": "1vf5cUVfTy1J"
      }
    },
    {
      "cell_type": "code",
      "source": [
        "s = set([1,3,5,7])\n",
        "print(s)"
      ],
      "metadata": {
        "colab": {
          "base_uri": "https://localhost:8080/"
        },
        "id": "53VRUEfkMa6B",
        "outputId": "07a60c68-90c5-4d30-af0e-91b8ddcab5fd"
      },
      "execution_count": 64,
      "outputs": [
        {
          "output_type": "stream",
          "name": "stdout",
          "text": [
            "{1, 3, 5, 7}\n"
          ]
        }
      ]
    },
    {
      "cell_type": "code",
      "source": [
        "s = {1,3,5,7}\n",
        "print(s)"
      ],
      "metadata": {
        "colab": {
          "base_uri": "https://localhost:8080/"
        },
        "id": "xszgNF74Tq7d",
        "outputId": "1f3a0312-d10c-46bd-8406-0bbd05ce2af2"
      },
      "execution_count": 65,
      "outputs": [
        {
          "output_type": "stream",
          "name": "stdout",
          "text": [
            "{1, 3, 5, 7}\n"
          ]
        }
      ]
    },
    {
      "cell_type": "markdown",
      "source": [
        "##set 집합의 원소 추가"
      ],
      "metadata": {
        "id": "cKoBTr54T1PX"
      }
    },
    {
      "cell_type": "code",
      "source": [
        "k = {100,105}\n",
        "k.add(50)\n",
        "print(k)"
      ],
      "metadata": {
        "colab": {
          "base_uri": "https://localhost:8080/"
        },
        "id": "MUX1fMr2TuOQ",
        "outputId": "ca1e106a-79f6-40e6-e9c1-77a1f126ddd3"
      },
      "execution_count": 70,
      "outputs": [
        {
          "output_type": "stream",
          "name": "stdout",
          "text": [
            "{105, 50, 100}\n"
          ]
        }
      ]
    },
    {
      "cell_type": "code",
      "source": [
        "k = {100,105}\n",
        "k.add(50,60)\n",
        "print(k)\n",
        "\n",
        "#_-----> 에러"
      ],
      "metadata": {
        "colab": {
          "base_uri": "https://localhost:8080/",
          "height": 248
        },
        "id": "KWxwZLHtU601",
        "outputId": "3f481539-c1fb-4fd9-9a8f-64ddead49428"
      },
      "execution_count": 71,
      "outputs": [
        {
          "output_type": "error",
          "ename": "TypeError",
          "evalue": "ignored",
          "traceback": [
            "\u001b[0;31m---------------------------------------------------------------------------\u001b[0m",
            "\u001b[0;31mTypeError\u001b[0m                                 Traceback (most recent call last)",
            "\u001b[0;32m<ipython-input-71-60d2b88286f3>\u001b[0m in \u001b[0;36m<module>\u001b[0;34m\u001b[0m\n\u001b[1;32m      1\u001b[0m \u001b[0mk\u001b[0m \u001b[0;34m=\u001b[0m \u001b[0;34m{\u001b[0m\u001b[0;36m100\u001b[0m\u001b[0;34m,\u001b[0m\u001b[0;36m105\u001b[0m\u001b[0;34m}\u001b[0m\u001b[0;34m\u001b[0m\u001b[0;34m\u001b[0m\u001b[0m\n\u001b[0;32m----> 2\u001b[0;31m \u001b[0mk\u001b[0m\u001b[0;34m.\u001b[0m\u001b[0madd\u001b[0m\u001b[0;34m(\u001b[0m\u001b[0;36m50\u001b[0m\u001b[0;34m,\u001b[0m\u001b[0;36m60\u001b[0m\u001b[0;34m)\u001b[0m\u001b[0;34m\u001b[0m\u001b[0;34m\u001b[0m\u001b[0m\n\u001b[0m\u001b[1;32m      3\u001b[0m \u001b[0mprint\u001b[0m\u001b[0;34m(\u001b[0m\u001b[0mk\u001b[0m\u001b[0;34m)\u001b[0m\u001b[0;34m\u001b[0m\u001b[0;34m\u001b[0m\u001b[0m\n\u001b[1;32m      4\u001b[0m \u001b[0;34m\u001b[0m\u001b[0m\n\u001b[1;32m      5\u001b[0m \u001b[0;31m#_-----> 에러\u001b[0m\u001b[0;34m\u001b[0m\u001b[0;34m\u001b[0m\u001b[0;34m\u001b[0m\u001b[0m\n",
            "\u001b[0;31mTypeError\u001b[0m: add() takes exactly one argument (2 given)"
          ]
        }
      ]
    },
    {
      "cell_type": "markdown",
      "source": [
        "##set 집합의 업데이트"
      ],
      "metadata": {
        "id": "PCKe8oC5Uokt"
      }
    },
    {
      "cell_type": "code",
      "source": [
        "k = {1,2,3}\n",
        "k.update([3,4,5])\n",
        "print(k)\n",
        "#중복은 자동으로 제거된다. 여러 데이터를 한번에 추가할때 사용"
      ],
      "metadata": {
        "colab": {
          "base_uri": "https://localhost:8080/"
        },
        "id": "7TsxYeOpT8Gg",
        "outputId": "22375f8e-03e1-442e-c43c-71347096d7b0"
      },
      "execution_count": 72,
      "outputs": [
        {
          "output_type": "stream",
          "name": "stdout",
          "text": [
            "{1, 2, 3, 4, 5}\n"
          ]
        }
      ]
    },
    {
      "cell_type": "markdown",
      "source": [
        "##set 집합의 제거"
      ],
      "metadata": {
        "id": "5Iow-HCoVHaY"
      }
    },
    {
      "cell_type": "code",
      "source": [
        "k = {1,2,3}\n",
        "k.remove(3)\n",
        "print(k)"
      ],
      "metadata": {
        "colab": {
          "base_uri": "https://localhost:8080/"
        },
        "id": "5dLYNGQqUwM0",
        "outputId": "d1514416-a033-4f09-9307-684013433f0f"
      },
      "execution_count": 73,
      "outputs": [
        {
          "output_type": "stream",
          "name": "stdout",
          "text": [
            "{1, 2}\n"
          ]
        }
      ]
    },
    {
      "cell_type": "code",
      "source": [
        "k = {1,2,3}\n",
        "k.remove(4)\n",
        "print(k)"
      ],
      "metadata": {
        "colab": {
          "base_uri": "https://localhost:8080/",
          "height": 211
        },
        "id": "-LYueHoCValw",
        "outputId": "9a3fbf87-cfa3-4ca4-ea8f-b66035a61a61"
      },
      "execution_count": 74,
      "outputs": [
        {
          "output_type": "error",
          "ename": "KeyError",
          "evalue": "ignored",
          "traceback": [
            "\u001b[0;31m---------------------------------------------------------------------------\u001b[0m",
            "\u001b[0;31mKeyError\u001b[0m                                  Traceback (most recent call last)",
            "\u001b[0;32m<ipython-input-74-36e05ca48fb0>\u001b[0m in \u001b[0;36m<module>\u001b[0;34m\u001b[0m\n\u001b[1;32m      1\u001b[0m \u001b[0mk\u001b[0m \u001b[0;34m=\u001b[0m \u001b[0;34m{\u001b[0m\u001b[0;36m1\u001b[0m\u001b[0;34m,\u001b[0m\u001b[0;36m2\u001b[0m\u001b[0;34m,\u001b[0m\u001b[0;36m3\u001b[0m\u001b[0;34m}\u001b[0m\u001b[0;34m\u001b[0m\u001b[0;34m\u001b[0m\u001b[0m\n\u001b[0;32m----> 2\u001b[0;31m \u001b[0mk\u001b[0m\u001b[0;34m.\u001b[0m\u001b[0mremove\u001b[0m\u001b[0;34m(\u001b[0m\u001b[0;36m4\u001b[0m\u001b[0;34m)\u001b[0m\u001b[0;34m\u001b[0m\u001b[0;34m\u001b[0m\u001b[0m\n\u001b[0m\u001b[1;32m      3\u001b[0m \u001b[0mprint\u001b[0m\u001b[0;34m(\u001b[0m\u001b[0mk\u001b[0m\u001b[0;34m)\u001b[0m\u001b[0;34m\u001b[0m\u001b[0;34m\u001b[0m\u001b[0m\n",
            "\u001b[0;31mKeyError\u001b[0m: 4"
          ]
        }
      ]
    },
    {
      "cell_type": "code",
      "source": [
        "k = {1,2,3}\n",
        "k.discard(3)\n",
        "print(k)"
      ],
      "metadata": {
        "colab": {
          "base_uri": "https://localhost:8080/"
        },
        "id": "g0kaWzLdVdVQ",
        "outputId": "27a3e0ee-8b86-4c3f-82a9-5c00c86e2e45"
      },
      "execution_count": 75,
      "outputs": [
        {
          "output_type": "stream",
          "name": "stdout",
          "text": [
            "{1, 2}\n"
          ]
        }
      ]
    },
    {
      "cell_type": "code",
      "source": [
        "k = {1,2,3}\n",
        "k.discard(4)\n",
        "print(k)"
      ],
      "metadata": {
        "colab": {
          "base_uri": "https://localhost:8080/"
        },
        "id": "sB_TSEwnVgiZ",
        "outputId": "b7a91103-acca-40e5-dcf7-5a98b401b1f5"
      },
      "execution_count": 76,
      "outputs": [
        {
          "output_type": "stream",
          "name": "stdout",
          "text": [
            "{1, 2, 3}\n"
          ]
        }
      ]
    },
    {
      "cell_type": "code",
      "source": [],
      "metadata": {
        "id": "ebfETIvJViR8"
      },
      "execution_count": null,
      "outputs": []
    }
  ]
}