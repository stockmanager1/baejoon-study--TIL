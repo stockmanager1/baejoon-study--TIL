{
  "nbformat": 4,
  "nbformat_minor": 0,
  "metadata": {
    "colab": {
      "name": "좌표 압축.ipynb",
      "provenance": [],
      "collapsed_sections": []
    },
    "kernelspec": {
      "name": "python3",
      "display_name": "Python 3"
    },
    "language_info": {
      "name": "python"
    }
  },
  "cells": [
    {
      "cell_type": "markdown",
      "source": [
        "#1트 - 시간초과"
      ],
      "metadata": {
        "id": "drhbm0Ow38JJ"
      }
    },
    {
      "cell_type": "code",
      "execution_count": 18,
      "metadata": {
        "colab": {
          "base_uri": "https://localhost:8080/"
        },
        "id": "NSqZdCSx1DHv",
        "outputId": "ae4dd009-b3d0-40a0-ec3c-9ae1a2153e6e"
      },
      "outputs": [
        {
          "name": "stdout",
          "output_type": "stream",
          "text": [
            "6\n",
            "1000 999 1000 999 1000 999\n"
          ]
        }
      ],
      "source": [
        "n = int(input())\n",
        "List = list(map(int,input().split()))"
      ]
    },
    {
      "cell_type": "code",
      "source": [
        "print(List)"
      ],
      "metadata": {
        "colab": {
          "base_uri": "https://localhost:8080/"
        },
        "id": "CQg2EBdA1nYA",
        "outputId": "0a93ccd2-375d-4383-b1f3-2ba8b9c9d676"
      },
      "execution_count": 20,
      "outputs": [
        {
          "output_type": "stream",
          "name": "stdout",
          "text": [
            "[1000, 999, 1000, 999, 1000, 999]\n"
          ]
        }
      ]
    },
    {
      "cell_type": "code",
      "source": [
        "Counted_List = []\n",
        "result = []\n",
        "for i in List:\n",
        "  for j in List:\n",
        "    if j < i:\n",
        "      Counted_List.append(j)\n",
        "    else: \n",
        "      pass\n",
        "  result.append(len(Counted_List))\n",
        "  Counted_List.clear()\n",
        "print(*result)"
      ],
      "metadata": {
        "colab": {
          "base_uri": "https://localhost:8080/"
        },
        "id": "82VnhCOk12Iv",
        "outputId": "426b3af3-57fd-4eea-edb7-791ce2589950"
      },
      "execution_count": 30,
      "outputs": [
        {
          "output_type": "stream",
          "name": "stdout",
          "text": [
            "3 0 3 0 3 0\n"
          ]
        }
      ]
    },
    {
      "cell_type": "markdown",
      "source": [
        "#2트 - 개수 정렬\n",
        "데이터의 크기가 n개로 제한되어 있으며, 정수형태로 표현이 가능하므로 개수 정렬로 접근보자.\n",
        "\n",
        "개수 정렬의 알고리즘 핵심:\n",
        "\n",
        "7 5 9 0 3 1 6 2 9 1 4 8 0 5 2\n",
        "\n",
        "이런 데이터를 \n",
        "\n",
        "저 데이터의 최솟값인 0부터 최댓값인 9까지 \n",
        "\n",
        "0으로 이루어진 새로운 리스트를 만든다.\n",
        "\n",
        "이때 각 수에 대한 중복은 포함하지 않는다.\n",
        "\n",
        "이후 해당 갯수를 반복문을 통해 갯수 만큼 \n",
        "\n",
        "0으로 이루어진 리스트에 각각 집어 넣는다.\n",
        "\n",
        "이후 해당 인덱스 만큼 해당하는 값을 집어 넣는다."
      ],
      "metadata": {
        "id": "1G33s28Bmr6k"
      }
    },
    {
      "cell_type": "markdown",
      "source": [
        "여기서는 0으로 이루어진 리스트에 자기보다 작은 수의 갯수를 집어 넣으면 완벽?"
      ],
      "metadata": {
        "id": "zGNF7e-Jn3l3"
      }
    },
    {
      "cell_type": "code",
      "source": [
        "count = [0] * (len(List))\n",
        "print(count)"
      ],
      "metadata": {
        "colab": {
          "base_uri": "https://localhost:8080/"
        },
        "id": "iklHZIkqodgV",
        "outputId": "e7cbbd4a-65fb-49e8-8e84-4f4411d4705e"
      },
      "execution_count": 26,
      "outputs": [
        {
          "output_type": "stream",
          "name": "stdout",
          "text": [
            "[0, 0, 0, 0, 0, 0]\n"
          ]
        }
      ]
    },
    {
      "cell_type": "code",
      "source": [
        "for i in range(n):\n",
        "  for j in range(n):\n",
        "    if List[i] > List[j]:\n",
        "      count[i] += 1\n",
        "print(count)"
      ],
      "metadata": {
        "colab": {
          "base_uri": "https://localhost:8080/"
        },
        "id": "X-TaKL39opLO",
        "outputId": "5e3be19a-1299-4b9b-fac3-d59210a36acd"
      },
      "execution_count": 27,
      "outputs": [
        {
          "output_type": "stream",
          "name": "stdout",
          "text": [
            "[3, 0, 3, 0, 3, 0]\n"
          ]
        }
      ]
    },
    {
      "cell_type": "markdown",
      "source": [
        "내가 하는 건 시간복잡도가 O(N^3)입니다. 따라서 여전히 오류.\n",
        "\n",
        "\n",
        "\n",
        "```\n",
        "for i in range(n):\n",
        "  for j in range(n):\n",
        "    if List[i] < List[j]:\n",
        "```\n",
        "이부분이 문제야\n"
      ],
      "metadata": {
        "id": "AuH1FDSUu6zK"
      }
    },
    {
      "cell_type": "markdown",
      "source": [
        "#3트 - 구글링\n",
        "\n",
        "출처: https://hongcoding.tistory.com/111"
      ],
      "metadata": {
        "id": "-vFNvh71xHo3"
      }
    },
    {
      "cell_type": "code",
      "source": [
        "n = int(input())\n",
        "List = list(map(int,input().split()))"
      ],
      "metadata": {
        "colab": {
          "base_uri": "https://localhost:8080/"
        },
        "id": "3xFCUfzEqIWR",
        "outputId": "ebee7ea2-952b-4cdc-a46d-fa136f270c5e"
      },
      "execution_count": 36,
      "outputs": [
        {
          "name": "stdout",
          "output_type": "stream",
          "text": [
            "5\n",
            "2 4 -10 4 -9\n"
          ]
        }
      ]
    },
    {
      "cell_type": "code",
      "source": [
        "#중복을 제거\n",
        "numbers = set(List)\n",
        "print(numbers)\n",
        "#리스트로 만들어 보기\n",
        "a = list(numbers)\n",
        "print(a)\n",
        "a.sort()\n",
        "print(a)"
      ],
      "metadata": {
        "colab": {
          "base_uri": "https://localhost:8080/"
        },
        "id": "BzvaIpT38nCB",
        "outputId": "63c44869-acc4-4f82-d2a3-d722f2f7c6c2"
      },
      "execution_count": 37,
      "outputs": [
        {
          "output_type": "stream",
          "name": "stdout",
          "text": [
            "{2, 4, -10, -9}\n",
            "[2, 4, -10, -9]\n",
            "[-10, -9, 2, 4]\n"
          ]
        }
      ]
    },
    {
      "cell_type": "code",
      "source": [
        "#딕션 만들기\n",
        "numdict = {}\n",
        "for i in range(len(a)):\n",
        "  numdict[a[i]] = i\n",
        "# dict[key] = value\n",
        "\n",
        "print(numdict)"
      ],
      "metadata": {
        "colab": {
          "base_uri": "https://localhost:8080/"
        },
        "id": "rALedPQI882C",
        "outputId": "2785ab80-6425-4c9b-ac38-e8f4e4635e82"
      },
      "execution_count": 38,
      "outputs": [
        {
          "output_type": "stream",
          "name": "stdout",
          "text": [
            "{-10: 0, -9: 1, 2: 2, 4: 3}\n"
          ]
        }
      ]
    },
    {
      "cell_type": "code",
      "source": [
        "for i in numbers:\n",
        "    print(numdict[i], end=' ')"
      ],
      "metadata": {
        "colab": {
          "base_uri": "https://localhost:8080/"
        },
        "id": "WtQupwUG-Ue_",
        "outputId": "29e41f6b-9f7d-4ef9-9e23-c383251ed38e"
      },
      "execution_count": 39,
      "outputs": [
        {
          "output_type": "stream",
          "name": "stdout",
          "text": [
            "2 3 0 1 "
          ]
        }
      ]
    },
    {
      "cell_type": "markdown",
      "source": [
        "#내가 못풀었던 이유\n",
        "1. 좌표 압축의 개념을 이해하지 못함.\n",
        "\n",
        "  -----> 좌표 압축이란?:\n",
        "  예를 들어, 다음과 같은 좌표가 있다고 하자.\n",
        "\n",
        "  [1, 10, 10000, 1000000]\n",
        "\n",
        "  이렇게 네 점의 좌표가 있을 때, 좌표는 네 개 이지만 좌표값이 1부터 1,000,000 까지 있다.\n",
        "\n",
        "  하지만 이 좌표를 압축하여 순서대로 표현하면 [0, 1, 2, 3] 이 된다.\n",
        "\n",
        " \n",
        "\n",
        "  즉, 작은 값부터 시작해서 0부터 인덱스를 부여하는  방식이다.\n",
        "\n",
        "  1이 가장 작으므로 0이되고 10이 1, 10000이 2, 1000000이 3이 되는 것이다.\n",
        "\n",
        "2. 중복을 계속 둔다.\n",
        "앞에서 내가 못풀었던 백준 1181 단어정렬때도 그랬고 지금도 그렇고 계속 중복을 지켜만 보고 있다.\n",
        "\n",
        "3. dict도 생각을 못함.\n",
        "너무 리스트만으로 생각하려고 하지말고 안풀리면 dict이라는 개념도 끌고와서 풀어보자\n",
        "\n",
        "4. 시간복잡도를 고려하면서 풀자. 시간 초과라는 건 너무 많은 연산이 있기 때문인데, 그걸 해결할 생각을 해야지 계속 뭐가 잘못된지 핀트를 잘 잡지 못하고 문제를 풀려고 한다."
      ],
      "metadata": {
        "id": "oJ7sZXEYAEsQ"
      }
    },
    {
      "cell_type": "code",
      "source": [],
      "metadata": {
        "id": "N6jpobBdAfez"
      },
      "execution_count": null,
      "outputs": []
    }
  ]
}