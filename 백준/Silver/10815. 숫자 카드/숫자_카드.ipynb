{
  "nbformat": 4,
  "nbformat_minor": 0,
  "metadata": {
    "colab": {
      "name": "숫자 카드.ipynb",
      "provenance": [],
      "collapsed_sections": [
        "ceqXvwoNVtUX",
        "3BqVfoDsVwYw",
        "X2Qw7xgWYHCA",
        "Eq-os0nfFjYS",
        "tvBwRVMMWh7u"
      ]
    },
    "kernelspec": {
      "name": "python3",
      "display_name": "Python 3"
    },
    "language_info": {
      "name": "python"
    }
  },
  "cells": [
    {
      "cell_type": "markdown",
      "source": [
        "#구상\n",
        "1. input으로 받기\n",
        "2. 이걸 각각 리스트의 요소끼리 비교해야 하니까 그러면 int형으로 만들어라\n",
        "3. 이걸하고 반복문으로 각 요소 비교하기.\n",
        "4. 이때 우리는 index함수를 사용해야 한다."
      ],
      "metadata": {
        "id": "zTBSGJk7PClQ"
      }
    },
    {
      "cell_type": "markdown",
      "source": [
        "#1트"
      ],
      "metadata": {
        "id": "ceqXvwoNVtUX"
      }
    },
    {
      "cell_type": "markdown",
      "source": [
        "input으로 받기"
      ],
      "metadata": {
        "id": "hK-xENMuP4H8"
      }
    },
    {
      "cell_type": "code",
      "execution_count": null,
      "metadata": {
        "colab": {
          "base_uri": "https://localhost:8080/"
        },
        "id": "hZFgoCAMNppM",
        "outputId": "a47aedab-4cee-4cda-b1f0-038895e40e6b"
      },
      "outputs": [
        {
          "output_type": "stream",
          "name": "stdout",
          "text": [
            "5\n",
            "6 3 2 10 -10\n",
            "8\n",
            "10 9 -5 2 3 4 5 -10\n",
            "상근이의 카드 갯수: 5\n",
            "상근이의 카드: ['6', '3', '2', '10', '-10']\n",
            "비교의 카드 갯수: 8\n",
            "비교 카드: ['10', '9', '-5', '2', '3', '4', '5', '-10']\n"
          ]
        }
      ],
      "source": [
        "A = int(input())\n",
        "B = input().split()\n",
        "C = int(input())\n",
        "D = input().split()\n",
        "\n",
        "print(\"상근이의 카드 갯수:\",A)\n",
        "print(\"상근이의 카드:\",B)\n",
        "print(\"비교의 카드 갯수:\",C)\n",
        "print(\"비교 카드:\",D)"
      ]
    },
    {
      "cell_type": "markdown",
      "source": [
        "이걸 각각 리스트의 요소끼리 비교해야 하니까 그러면 int형으로 만들어라"
      ],
      "metadata": {
        "id": "cuWRoBfUR7Jz"
      }
    },
    {
      "cell_type": "code",
      "source": [
        "B = list(map(int,B))\n",
        "D = list(map(int,D))\n",
        "\n",
        "print(\"상근이의 카드:\",B)\n",
        "print(\"비교 카드:\",D)\n"
      ],
      "metadata": {
        "colab": {
          "base_uri": "https://localhost:8080/"
        },
        "id": "hr3GtGyeP6sy",
        "outputId": "3e244493-df22-4dff-e346-bd73406c05d2"
      },
      "execution_count": null,
      "outputs": [
        {
          "output_type": "stream",
          "name": "stdout",
          "text": [
            "상근이의 카드: [6, 3, 2, 10, -10]\n",
            "비교 카드: [10, 9, -5, 2, 3, 4, 5, -10]\n"
          ]
        }
      ]
    },
    {
      "cell_type": "markdown",
      "source": [
        "이걸하고 반복문으로 각 요소 비교하기.\n",
        "\n",
        "----> index함수 사용"
      ],
      "metadata": {
        "id": "iA2hPpXrSAXD"
      }
    },
    {
      "cell_type": "code",
      "source": [
        "for i in B:\n",
        "  if i in D:\n",
        "    D[D.index(i)] = 1\n",
        "  else:\n",
        "    pass\n",
        "\n",
        "for i in D:\n",
        "  if i != 1:\n",
        "    D[D.index(i)] = 0\n",
        "  else:\n",
        "    pass\n",
        "print(*D)"
      ],
      "metadata": {
        "colab": {
          "base_uri": "https://localhost:8080/"
        },
        "id": "p1UIV_hLQX3O",
        "outputId": "caf5d9f9-09af-4f83-e5dc-2a31739caebf"
      },
      "execution_count": null,
      "outputs": [
        {
          "output_type": "stream",
          "name": "stdout",
          "text": [
            "1 0 0 1 1 0 0 1\n"
          ]
        }
      ]
    },
    {
      "cell_type": "markdown",
      "source": [
        "시간 초과로 막힘. 출력을 좀 달리해서 해결해보자.\n",
        "\n",
        "import sys를 사용할 것"
      ],
      "metadata": {
        "id": "l9cUj8WYVmu9"
      }
    },
    {
      "cell_type": "markdown",
      "source": [
        "#2트"
      ],
      "metadata": {
        "id": "3BqVfoDsVwYw"
      }
    },
    {
      "cell_type": "markdown",
      "source": [
        "sys는 코랩에서 구현이 x 참고할 것"
      ],
      "metadata": {
        "id": "nKNhAV-yVygP"
      }
    },
    {
      "cell_type": "code",
      "source": [
        "import sys\n",
        "A = sys.stdin.readline()\n",
        "B = list(map(int,sys.stdin.readline().split()))\n",
        "\n",
        "#출력 ok"
      ],
      "metadata": {
        "colab": {
          "base_uri": "https://localhost:8080/"
        },
        "id": "I6Tzfg0FUbju",
        "outputId": "0b8c2968-bd59-4818-a70c-cbddadf99e88"
      },
      "execution_count": null,
      "outputs": [
        {
          "output_type": "stream",
          "name": "stdout",
          "text": [
            "\n",
            "<map object at 0x7f3fab0a5b90>\n"
          ]
        }
      ]
    },
    {
      "cell_type": "code",
      "source": [
        "import sys\n",
        "A = sys.stdin.readline()\n",
        "B = list(map(int,sys.stdin.readline().split()))\n",
        "C = sys.stdin.readline()\n",
        "D = list(map(int,sys.stdin.readline().split()))\n",
        "\n",
        "for i in B:\n",
        "  if i in D:\n",
        "    D[D.index(i)] = 1\n",
        "  else:\n",
        "    pass\n",
        "\n",
        "for i in D:\n",
        "  if i != 1:\n",
        "    D[D.index(i)] = 0\n",
        "  else:\n",
        "    pass\n",
        "print(*D)"
      ],
      "metadata": {
        "id": "xiMDd4DuUbhg"
      },
      "execution_count": null,
      "outputs": []
    },
    {
      "cell_type": "markdown",
      "source": [
        "여전히 시간 초과. 이진 탐색 알고리즘에 대해 좀 더 알아보고 시도해보자."
      ],
      "metadata": {
        "id": "GcHXtCN_V-HW"
      }
    },
    {
      "cell_type": "markdown",
      "source": [
        "#3트"
      ],
      "metadata": {
        "id": "8DRntsKUXN1T"
      }
    },
    {
      "cell_type": "markdown",
      "source": [
        "##이진 탐색(중간값에 따라 배열을 지우는 것)"
      ],
      "metadata": {
        "id": "X2Qw7xgWYHCA"
      }
    },
    {
      "cell_type": "markdown",
      "source": [
        "순차 탐색: 리스트 안에 있는 특정한 데이터를 찾기 위해 앞에서부터 데이터를 하나씩 확인하는 방법.\n",
        "\n",
        "이진 탐색: 정렬되어 있는 리스트에서 탐색 범위를 절반씩 좁혀가며 데이터를 탐색하는 방법\n",
        "\n",
        "-**시작점, 끝점, 중간점**을 이용해서 탐색 범위를 설정한다."
      ],
      "metadata": {
        "id": "Gu4V2PxoXPFz"
      }
    },
    {
      "cell_type": "markdown",
      "source": [
        "예제1) \n",
        "\n",
        "**0 2 4 6 8 10 12 14 16 18**\n",
        "\n",
        "의 카드 배열이 있다고 하자.\n",
        "\n",
        "이때 우리는 4가 존재하는지 아닌지 알고 싶다."
      ],
      "metadata": {
        "id": "vMNKOuqaZKZU"
      }
    },
    {
      "cell_type": "markdown",
      "source": [
        "이때 우리는 시작점, 끝점, 중간점을 지정해야 한다.\n",
        "\n",
        "여기서는 0이 0번째 인덱스로 시작점, 8이 4번째 인덱스로 중간점(만일 짝수개라 중간값이 2개면 앞에 있는 인덱스가 중간값), 18이 9번쨰 인덱스라고 한다. \n",
        "\n",
        "아때 우리가 구하고자 하는 4는 중간값 8보다 작기때문에 8부터 18까지를 탐색할 필요가 없다.\n",
        "\n",
        "따라서 우리는 배열을 **0 2 4 6**으로 줄일 수 있다.\n",
        "\n",
        "여기서 다시 이진 탐색을 실시하면 0은 시작값, 2는 중간값, 6은 끝값이다.\n",
        "\n",
        "그럼 이때 4는 중간값 2보다 크니까 우리는 **4 6**으로 배열을 줄일 수 있다.\n",
        "\n",
        "이런식으로 찾은 수를 중간값에 따라 배열을 지우는 것이 이진탐색 알고리즘이다."
      ],
      "metadata": {
        "id": "pgMTQ9qIZf8L"
      }
    },
    {
      "cell_type": "markdown",
      "source": [
        "단계마다 탐색 범위를 2로 나누는 것이 동일하다. 즉 연산 횟수는  logN에 비례한다.\n",
        "\n",
        "즉 예를 들어 초기 데이터가 32일때, 이상적으로 1단계를 거치면, 16개 가량의 데이터만 남는다.\n",
        "\n",
        "2단계는 8, 3단계는 4\n",
        "\n",
        "즉 이진탐색은 탐색범위를 절반씩 줄이며, 시간복잡도는 0을 보장한다."
      ],
      "metadata": {
        "id": "nOsBchpF_e7H"
      }
    },
    {
      "cell_type": "markdown",
      "source": [
        "###이진탐색 소스코드 (재귀적 구현)"
      ],
      "metadata": {
        "id": "0-fHMs6GAfBH"
      }
    },
    {
      "cell_type": "code",
      "source": [
        "#배열, 찾고자 하는 값, 시작점, 끝점을 각각 의미\n",
        "def binary_search(array,target,start,end):\n",
        " #시작점이 끝점보다 크다면 당연히 값은 애초에 존재하지 않는다. \n",
        "  if start > end:\n",
        "    return None\n",
        " #중간값을 구해야지   \n",
        "  mid = (start+end) // 2\n",
        "#만약 중간값이 값이라면 바로 리턴\n",
        "  if array[mid] == target:\n",
        "    return mid\n",
        "#중간값이 찾고자 하는 값보다 작은 경우, 왼쪽확인. 따라서 중간값보다 1작은 값까지 탐색해야 한다.\n",
        "  elif array[mid] > target:\n",
        "    return binary_search(array, target,start,mid-1)\n",
        "#중간값이 찾고자 하는 값보다 큰 경우, 오른쪽확인. 따라서 중간값보다 1큰 값까지 탐색해야 한다.\n",
        "  else:\n",
        "    return binary_search(array,target,start,mid+1,end)\n",
        "#n(원소의 갯수)와 target(찾고자 하는 값)을 입력 받기\n",
        "n,target = list(map(int,input().split()))\n",
        "#전체 원소 입력 받기\n",
        "array = list(map(int,input().split()))\n",
        "#이진 탐색 수행 결과 출력\n",
        "result = binary_search(array,target,0,n-1)\n",
        "if result == None:\n",
        "  print(\"원소가 존재하지 않는다.\")\n",
        "else:\n",
        "#인덱스의 순서가 0,1,2이기 때문에 순서를 정확히 구하기 위해서 +1\n",
        "  print(result + 1)"
      ],
      "metadata": {
        "id": "54HUtzF0WFGP"
      },
      "execution_count": null,
      "outputs": []
    },
    {
      "cell_type": "markdown",
      "source": [
        "###이진탐색 소스코드 (반복문 구현)"
      ],
      "metadata": {
        "id": "to1AhLl8EiHi"
      }
    },
    {
      "cell_type": "code",
      "source": [
        "#배열, 찾고자 하는 값, 시작점, 끝점을 각각 의미\n",
        "def binary_search(array,target,start,end):\n",
        " #시작점이 끝점보다 크다면 당연히 값은 애초에 존재하지 않는다. \n",
        "  while start <= end:\n",
        " #중간값을 구해야지   \n",
        "    mid = (start+end) // 2\n",
        "#만약 중간값이 값이라면 바로 리턴\n",
        "  if array[mid] == target:\n",
        "    return mid\n",
        "#중간값이 찾고자 하는 값보다 작은 경우, 왼쪽확인. 따라서 중간값보다 1작은 값까지 탐색해야 한다.\n",
        "  elif array[mid] > target:\n",
        "    end = mid-1\n",
        "#중간값이 찾고자 하는 값보다 큰 경우, 오른쪽확인. 따라서 중간값보다 1큰 값까지 탐색해야 한다.\n",
        "  else:\n",
        "    start = mid + 1\n",
        "  return None\n",
        "#n(원소의 갯수)와 target(찾고자 하는 값)을 입력 받기\n",
        "n,target = list(map(int,input().split()))\n",
        "#전체 원소 입력 받기\n",
        "array = list(map(int,input().split()))\n",
        "#이진 탐색 수행 결과 출력\n",
        "result = binary_search(array,target,0,n-1)\n",
        "if result == None:\n",
        "  print(\"원소가 존재하지 않는다.\")\n",
        "else:\n",
        "#인덱스의 순서가 0,1,2이기 때문에 순서를 정확히 구하기 위해서 +1\n",
        "  print(result + 1)"
      ],
      "metadata": {
        "id": "xpK7kYVVEkqU"
      },
      "execution_count": null,
      "outputs": []
    },
    {
      "cell_type": "markdown",
      "source": [
        "#파이썬 이진 탐색 라이브러리\n",
        "\n",
        "bisect_left(a,x) : 정렬을 유지하면서, 배열 a에 x를 삽입할 가장 왼쪽 인덱스를 반환\n",
        "\n",
        "bisect_right(a,x) : 정렬을 유지하면서, 배열 a에 x를 삽입할 가장 오른쪽 인덱스를 반환\n",
        "\n"
      ],
      "metadata": {
        "id": "Eq-os0nfFjYS"
      }
    },
    {
      "cell_type": "markdown",
      "source": [
        "**1,2,4,4,8**의 배열이 있다고 하면 \n",
        "x=4라고 하자. 그럼 인덱스 2가 가장 왼쪽 인덱스\n",
        "\n",
        "오른쪽은 8이 가장 오른쪽 인덱스"
      ],
      "metadata": {
        "id": "-3RgISwEGjGJ"
      }
    },
    {
      "cell_type": "code",
      "source": [
        "from bisect import bisect_left,bisect_right"
      ],
      "metadata": {
        "id": "RgAfAli-F2vj"
      },
      "execution_count": null,
      "outputs": []
    },
    {
      "cell_type": "code",
      "source": [
        "a = [1,2,4,4,8]\n",
        "\n",
        "x = 4\n",
        "\n",
        "print(bisect_left(a,x))\n",
        "print(bisect_right(a,x))"
      ],
      "metadata": {
        "colab": {
          "base_uri": "https://localhost:8080/"
        },
        "id": "Rh9LR_ayF9JB",
        "outputId": "d83b2f51-1267-4a3d-cdbc-6b5b8d9fc2f1"
      },
      "execution_count": null,
      "outputs": [
        {
          "output_type": "stream",
          "name": "stdout",
          "text": [
            "2\n",
            "4\n"
          ]
        }
      ]
    },
    {
      "cell_type": "markdown",
      "source": [
        "###파이썬 이진 탐색 라이브러리를 이용한 데이터 개수 구하기"
      ],
      "metadata": {
        "id": "CGwDRkfKI_-p"
      }
    },
    {
      "cell_type": "code",
      "source": [
        "from bisect import bisect_left,bisect_right\n",
        "\n",
        "#해당 값에 포함이 된 데이터의 갯수를 구하기 위해 빼기를 해준다.\n",
        "def count_by_range(a,left_value,right_value):\n",
        "  right_index = bisect_right(a,right_value)\n",
        "  left_index = bisect_left(a,left_value)\n",
        "  return right_index - left_index\n",
        "\n",
        "#배열 선언\n",
        "a = [1,2,3,3,3,4,4,8,9]\n",
        "\n",
        "#깂이 4인 데이터의 갯수 출력\n",
        "print(count_by_range(a,4,4))\n",
        "#값이 [-1,3] 범위에 속하는 데이터 개수 출력\n",
        "print(count_by_range(a,-1,3))"
      ],
      "metadata": {
        "colab": {
          "base_uri": "https://localhost:8080/"
        },
        "id": "WPavgCzYIJw3",
        "outputId": "d7cc39ea-35fd-4464-a036-e2da17f1740e"
      },
      "execution_count": null,
      "outputs": [
        {
          "output_type": "stream",
          "name": "stdout",
          "text": [
            "2\n",
            "5\n"
          ]
        }
      ]
    },
    {
      "cell_type": "markdown",
      "source": [
        "###파라메트릭 서치\n",
        "\n",
        "최적화 문제를 결정 문제로 바꾸어 해결하는 기법입니다.\n",
        "\n",
        "일반적으로 이진탐색을 사용해서 해결할 수 있다."
      ],
      "metadata": {
        "id": "eZrHvhAbQr5Q"
      }
    },
    {
      "cell_type": "markdown",
      "source": [
        "즉 현재 이높이로 자르면 조건을 만족할 수 있는가?를 확인한 뒤에 조건의 만족여부에 따라서 탐색 범위를 좁혀서 해결할 수 있습니다."
      ],
      "metadata": {
        "id": "7U2GlMrUT6qL"
      }
    },
    {
      "cell_type": "markdown",
      "source": [
        "# 이진분류를 이용한 구상\n",
        "\n",
        "1. input받기\n",
        "2. 두번째에 대해서 반복문으로 받기\n",
        "3. 그 받은 숫자가 네번째 리스트에 존재하는지 이진탐색을 통해 찾기"
      ],
      "metadata": {
        "id": "tvBwRVMMWh7u"
      }
    },
    {
      "cell_type": "markdown",
      "source": [
        "input받기"
      ],
      "metadata": {
        "id": "G7CK9C-FYM2G"
      }
    },
    {
      "cell_type": "code",
      "source": [
        "A = int(input())\n",
        "B = input().split()\n",
        "C = int(input())\n",
        "D = input().split()\n",
        "\n",
        "print(\"상근이의 카드 갯수:\",A)\n",
        "print(\"상근이의 카드:\",B)\n",
        "print(\"비교의 카드 갯수:\",C)\n",
        "print(\"비교 카드:\",D)"
      ],
      "metadata": {
        "colab": {
          "base_uri": "https://localhost:8080/"
        },
        "id": "kMHQmml_Wf_C",
        "outputId": "0c5bfe12-90bc-4c2a-9ba9-512ccd2b0e9d"
      },
      "execution_count": null,
      "outputs": [
        {
          "output_type": "stream",
          "name": "stdout",
          "text": [
            "5\n",
            "6 3 2 10 -10\n",
            "8\n",
            "10 9 -5 2 3 4 5 -10\n",
            "상근이의 카드 갯수: 5\n",
            "상근이의 카드: ['6', '3', '2', '10', '-10']\n",
            "비교의 카드 갯수: 8\n",
            "비교 카드: ['10', '9', '-5', '2', '3', '4', '5', '-10']\n"
          ]
        }
      ]
    },
    {
      "cell_type": "code",
      "source": [
        "B = list(map(int,B))\n",
        "D = list(map(int,D))\n",
        "\n",
        "print(\"상근이의 카드:\",B)\n",
        "print(\"비교 카드:\",D)\n"
      ],
      "metadata": {
        "colab": {
          "base_uri": "https://localhost:8080/"
        },
        "id": "efk-SdTLaCDo",
        "outputId": "a92f3fd8-579d-4a80-94fc-11c75df357b4"
      },
      "execution_count": null,
      "outputs": [
        {
          "output_type": "stream",
          "name": "stdout",
          "text": [
            "상근이의 카드: [6, 3, 2, 10, -10]\n",
            "비교 카드: [10, 9, -5, 2, 3, 4, 5, -10]\n"
          ]
        }
      ]
    },
    {
      "cell_type": "markdown",
      "source": [
        "두번째에 대해서 반복문으로 받기"
      ],
      "metadata": {
        "id": "u8wGxf8KYOji"
      }
    },
    {
      "cell_type": "code",
      "source": [
        "for i in B:\n",
        "  print(i)"
      ],
      "metadata": {
        "colab": {
          "base_uri": "https://localhost:8080/"
        },
        "id": "YzGkR63WZ6KB",
        "outputId": "f84ab6c5-319a-45e0-cb1d-d0a7eec64be3"
      },
      "execution_count": null,
      "outputs": [
        {
          "output_type": "stream",
          "name": "stdout",
          "text": [
            "6\n",
            "3\n",
            "2\n",
            "10\n",
            "-10\n"
          ]
        }
      ]
    },
    {
      "cell_type": "markdown",
      "source": [
        "그 받은 숫자가 네번째 리스트에 존재하는지 이진탐색을 통해 찾기"
      ],
      "metadata": {
        "id": "_l2LHNWUasr8"
      }
    },
    {
      "cell_type": "code",
      "source": [
        "def bi(array,target,start,end):\n",
        "  while start < end:\n",
        "    mid = (start + end) // 2\n",
        "    if array[mid] == target:\n",
        "      return mid\n",
        "    elif array[mid] > target:\n",
        "      end = mid - 1\n",
        "    else:\n",
        "      start = mid + 1\n",
        "  return None\n",
        "\n",
        "for i in B:\n",
        "  result = bi(D,i,0,C-1)\n",
        "  if result == None:\n",
        "    D[B.index(i)] = 0\n",
        "  else:\n",
        "   D[B.index(i)] = 1\n",
        "print(D)"
      ],
      "metadata": {
        "colab": {
          "base_uri": "https://localhost:8080/"
        },
        "id": "C9JoaslraUgL",
        "outputId": "cffc45f3-60fc-4a3f-b66c-e0af716074e5"
      },
      "execution_count": null,
      "outputs": [
        {
          "output_type": "stream",
          "name": "stdout",
          "text": [
            "[0, 0, 1, 0, 0, 4, 5, -10]\n"
          ]
        }
      ]
    },
    {
      "cell_type": "markdown",
      "source": [
        "왜 틀린거지......\n",
        "\n",
        "https://pythontutor.com/render.html#mode=display\n",
        "\n",
        "돌려"
      ],
      "metadata": {
        "id": "IpGL-N_onpZF"
      }
    },
    {
      "cell_type": "markdown",
      "source": [
        "![Screenshot 2022-08-22 at 17.29.34.JPG](data:image/jpeg;base64,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)"
      ],
      "metadata": {
        "id": "MXO9O98MrADB"
      }
    },
    {
      "cell_type": "markdown",
      "source": [
        "이거 리스트 D를 정렬하고 돌려야함.\n",
        "그래서 모든 리스트 D가 돌아가지 않고 일부만 돌아간거임."
      ],
      "metadata": {
        "id": "XN58-l9lrCIl"
      }
    },
    {
      "cell_type": "markdown",
      "source": [
        "#4트"
      ],
      "metadata": {
        "id": "nvRNS4FPrPGJ"
      }
    },
    {
      "cell_type": "code",
      "source": [
        "A = int(input())\n",
        "B = input().split()\n",
        "C = int(input())\n",
        "D = input().split()\n",
        "\n",
        "print(\"상근이의 카드 갯수:\",A)\n",
        "print(\"상근이의 카드:\",B)\n",
        "print(\"비교의 카드 갯수:\",C)\n",
        "print(\"비교 카드:\",D)"
      ],
      "metadata": {
        "colab": {
          "base_uri": "https://localhost:8080/"
        },
        "id": "AmJ6dy3ciVr-",
        "outputId": "04b31bd6-d98f-453e-dfaf-115858e5ded2"
      },
      "execution_count": null,
      "outputs": [
        {
          "output_type": "stream",
          "name": "stdout",
          "text": [
            "5\n",
            "6 3 2 10 -10\n",
            "8\n",
            "10 9 -5 2 3 4 5 -10\n",
            "상근이의 카드 갯수: 5\n",
            "상근이의 카드: ['6', '3', '2', '10', '-10']\n",
            "비교의 카드 갯수: 8\n",
            "비교 카드: ['10', '9', '-5', '2', '3', '4', '5', '-10']\n"
          ]
        }
      ]
    },
    {
      "cell_type": "code",
      "source": [
        "B = list(map(int,B))\n",
        "D = list(map(int,D))\n",
        "D = sorted(D)\n",
        "print(\"상근이의 카드:\",B)\n",
        "print(\"비교 카드:\",D)"
      ],
      "metadata": {
        "colab": {
          "base_uri": "https://localhost:8080/"
        },
        "id": "tVZxBs5qrm18",
        "outputId": "22a87ddc-1487-4bdd-9d7e-ce23a5771dff"
      },
      "execution_count": null,
      "outputs": [
        {
          "output_type": "stream",
          "name": "stdout",
          "text": [
            "상근이의 카드: [6, 3, 2, 10, -10]\n",
            "비교 카드: [-10, -5, 2, 3, 4, 5, 9, 10]\n"
          ]
        }
      ]
    },
    {
      "cell_type": "code",
      "source": [
        "A = int(input())\n",
        "B = list(map(int, input().split()))\n",
        "C = int(input())\n",
        "D = input().split()\n",
        "\n",
        "D = list(map(int,D))\n",
        "F = sorted(D)\n",
        "\n",
        "def bi(array,target,start,end):\n",
        "  while start <= end:\n",
        "    mid = (start + end) // 2\n",
        "    if array[mid] == target:\n",
        "      return mid\n",
        "    elif array[mid] > target:\n",
        "      end = mid - 1\n",
        "    else:\n",
        "      start = mid + 1\n",
        "  return None\n",
        "E = []\n",
        "for i in B:\n",
        "  result = bi(F,i,0,C-1)\n",
        "  if result == None:\n",
        "    pass\n",
        "  else:\n",
        "    E.append(i)\n",
        "\n",
        "for i in D:\n",
        "  if i in E:\n",
        "    D[D.index(i)] = 1\n",
        "  else:\n",
        "    pass\n",
        "for i in D:\n",
        "  if i != 1:\n",
        "    D[D.index(i)] = 0\n",
        "  else:\n",
        "    pass\n",
        "print(*D)\n"
      ],
      "metadata": {
        "colab": {
          "base_uri": "https://localhost:8080/"
        },
        "id": "GR3KGP7aroid",
        "outputId": "108b952e-76d5-4851-fdca-1c65df0fce5f"
      },
      "execution_count": 50,
      "outputs": [
        {
          "output_type": "stream",
          "name": "stdout",
          "text": [
            "5\n",
            "6 3 2 10 -10\n",
            "8\n",
            "10 9 -5 2 3 4 5 -10\n",
            "1 0 0 1 1 0 0 1\n"
          ]
        }
      ]
    },
    {
      "cell_type": "markdown",
      "source": [
        "시간 초과;;;;"
      ],
      "metadata": {
        "id": "dF3qzXm3effF"
      }
    },
    {
      "cell_type": "markdown",
      "source": [
        "# 5트"
      ],
      "metadata": {
        "id": "jiuQX7coehpX"
      }
    },
    {
      "cell_type": "code",
      "source": [
        "A = int(input())\n",
        "B = list(map(int, input().split()))\n",
        "C = int(input())\n",
        "D = input().split()\n",
        "\n",
        "D = list(map(int,D))\n",
        "F = sorted(D)\n",
        "\n",
        "def bi(array,target,start,end):\n",
        "  while start <= end:\n",
        "    mid = (start + end) // 2\n",
        "    if array[mid] == target:\n",
        "      return 1\n",
        "    elif array[mid] > target:\n",
        "      end = mid - 1\n",
        "    else:\n",
        "      start = mid + 1\n",
        "  return 0\n",
        "E = []\n",
        "for i in B:\n",
        "  result = bi(F,i,0,C-1)\n",
        "  print(result)\n"
      ],
      "metadata": {
        "colab": {
          "base_uri": "https://localhost:8080/"
        },
        "id": "qHJ6qT6Qegiv",
        "outputId": "fbd27467-ca35-4f18-84e4-528a8cea1f8b"
      },
      "execution_count": 51,
      "outputs": [
        {
          "output_type": "stream",
          "name": "stdout",
          "text": [
            "5\n",
            "6 3 2 10 -10\n",
            "8\n",
            "10 9 -5 2 3 4 5 -10\n",
            "None\n",
            "3\n",
            "2\n",
            "7\n",
            "0\n"
          ]
        }
      ]
    },
    {
      "cell_type": "code",
      "source": [
        "A = int(input())\n",
        "B = list(map(int, input().split()))\n",
        "C = int(input())\n",
        "D = input().split()\n",
        "\n",
        "D = list(map(int,D))\n",
        "F = sorted(D)\n",
        "\n",
        "def bi(array,target,start,end):\n",
        "  while start <= end:\n",
        "    mid = (start + end) // 2\n",
        "    if array[mid] == target:\n",
        "      return 1\n",
        "    elif array[mid] > target:\n",
        "      end = mid - 1\n",
        "    else:\n",
        "      start = mid + 1\n",
        "  return 0\n",
        "E = []\n",
        "for i in B:\n",
        "  result = bi(F,i,0,C-1)\n",
        "  E.append(result)\n",
        "print(E)\n"
      ],
      "metadata": {
        "colab": {
          "base_uri": "https://localhost:8080/"
        },
        "id": "h7SMOgnWhvvU",
        "outputId": "4790ef5a-0951-4003-d3db-d39272d77339"
      },
      "execution_count": 52,
      "outputs": [
        {
          "output_type": "stream",
          "name": "stdout",
          "text": [
            "5\n",
            "6 3 2 10 -10\n",
            "8\n",
            "10 9 -5 2 3 4 5 -10\n",
            "[0, 1, 1, 1, 1]\n"
          ]
        }
      ]
    },
    {
      "cell_type": "markdown",
      "source": [
        "이전에 이런 시도를 했지만 내가 이전코드와 햇갈려서 이걸 인지하지 못함. 앞으로는 새로 코드를 짜면 트라이 별로 확실히 구분해놓자."
      ],
      "metadata": {
        "id": "3gvnZKozjA7o"
      }
    },
    {
      "cell_type": "markdown",
      "source": [
        "출력 초과를 해결하기 위해 sys 사용\n",
        "\n",
        "앞에서 기준을e로 잡을때 [0, 1, 1, 1, 1]라고 나온다.\n",
        "\n",
        "이번에는 B를 기준으로 잡자."
      ],
      "metadata": {
        "id": "2n3hIEVYitDc"
      }
    },
    {
      "cell_type": "code",
      "source": [
        "import sys\n",
        "\n",
        "def binary_search(array, target, start, end):\n",
        "    while start <= end:\n",
        "        mid = (start + end) // 2\n",
        "\n",
        "        if array[mid] == target:\n",
        "            return 1\n",
        "        elif array[mid] > target:\n",
        "            end = mid - 1\n",
        "        else:\n",
        "            start = mid + 1\n",
        "    return 0\n",
        "\n",
        "n = int(input())\n",
        "card = list(map(int, sys.stdin.readline().split()))\n",
        "m = int(input())\n",
        "check = list(map(int, sys.stdin.readline().split()))\n",
        "\n",
        "card.sort()\n",
        "\n",
        "\n",
        "for i in range(m):\n",
        "    print(binary_search(card, check[i], 0, n - 1), end=' ')"
      ],
      "metadata": {
        "id": "9DHOvaDSioOi"
      },
      "execution_count": null,
      "outputs": []
    }
  ]
}